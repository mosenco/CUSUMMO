{
 "cells": [
  {
   "cell_type": "code",
   "execution_count": 1,
   "metadata": {},
   "outputs": [],
   "source": [
    "import pandas as pd\n",
    "from scipy import signal\n",
    "\n",
    "# Leggere il file CSV e caricare i dati in un DataFrame\n",
    "input_csv = 'in\\cora1_input_csv.txt'  # Nome del file di input\n",
    "df = pd.read_csv(input_csv)\n",
    "\n",
    "# Decimare ogni colonna della timeseries\n",
    "decimation_factor = 2  # Fattore di decimazione per passare da 100 Hz a 50 Hz\n",
    "df_decimated = pd.DataFrame()\n",
    "\n",
    "# Applicare il decimate a ogni colonna\n",
    "for col in df.columns:\n",
    "    # Applicare il filtro decimate sulla colonna\n",
    "    df_decimated[col] = signal.decimate(df[col], decimation_factor)\n",
    "\n",
    "# Salvare il DataFrame decimato in un nuovo file CSV\n",
    "output_csv = 'in\\cora01.csv'  # Nome del file di output\n",
    "df_decimated.to_csv(output_csv, index=False)\n",
    "\n"
   ]
  },
  {
   "cell_type": "code",
   "execution_count": 4,
   "metadata": {},
   "outputs": [
    {
     "name": "stdout",
     "output_type": "stream",
     "text": [
      "Il file CSV modificato è stato salvato come cora1.csv\n"
     ]
    }
   ],
   "source": [
    "import pandas as pd\n",
    "\n",
    "# Leggere il file CSV\n",
    "input_csv = 'in\\cora1_input_csv.txt'\n",
    "df = pd.read_csv(input_csv)\n",
    "\n",
    "# Definire i limiti attuali e quelli desiderati\n",
    "tempo_attuale_max = df.iloc[-1, 0]  # Durata attuale in secondi\n",
    "tempo_nuovo_max = 127.877  # Nuova durata desiderata (2 minuti e 12 secondi)\n",
    "\n",
    "# Riscalare la colonna del tempo\n",
    "df.iloc[:, 0] = df.iloc[:, 0] * (tempo_nuovo_max / tempo_attuale_max)\n",
    "\n",
    "# Salvare il nuovo CSV con la colonna del tempo modificata\n",
    "output_csv = 'in\\cora1.csv'\n",
    "df.to_csv(output_csv, index=False)\n",
    "\n",
    "print(f'Il file CSV modificato è stato salvato come {output_csv}')"
   ]
  }
 ],
 "metadata": {
  "kernelspec": {
   "display_name": "Python 3",
   "language": "python",
   "name": "python3"
  },
  "language_info": {
   "codemirror_mode": {
    "name": "ipython",
    "version": 3
   },
   "file_extension": ".py",
   "mimetype": "text/x-python",
   "name": "python",
   "nbconvert_exporter": "python",
   "pygments_lexer": "ipython3",
   "version": "3.10.11"
  }
 },
 "nbformat": 4,
 "nbformat_minor": 2
}
