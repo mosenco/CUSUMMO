{
 "cells": [
  {
   "cell_type": "code",
   "execution_count": 1,
   "metadata": {},
   "outputs": [
    {
     "name": "stderr",
     "output_type": "stream",
     "text": [
      "C:\\Users\\loluc\\AppData\\Local\\Packages\\PythonSoftwareFoundation.Python.3.10_qbz5n2kfra8p0\\LocalCache\\local-packages\\Python310\\site-packages\\aeon\\base\\__init__.py:24: FutureWarning: The aeon package will soon be releasing v1.0.0 with the removal of legacy modules and interfaces such as BaseTransformer and BaseForecaster. This will contain breaking changes. See aeon-toolkit.org for more information. Set aeon.AEON_DEPRECATION_WARNING or the AEON_DEPRECATION_WARNING environmental variable to 'False' to disable this warning.\n",
      "  warnings.warn(\n"
     ]
    }
   ],
   "source": [
    "# packages\n",
    "import pandas as pd\n",
    "import numpy as np\n",
    "\n",
    "from claspy.segmentation import BinaryClaSPSegmentation\n",
    "\n",
    "import ruptures as rpt\n",
    "\n",
    "import stumpy\n",
    "from aeon.segmentation import find_dominant_window_sizes\n",
    "\n",
    "from aeon.segmentation import GreedyGaussianSegmenter\n",
    "\n",
    "from aeon.segmentation import InformationGainSegmenter\n",
    "\n",
    "from aeon.anomaly_detection import STRAY\n",
    "\n",
    "from sklearn.metrics import accuracy_score, f1_score, precision_score, recall_score, make_scorer,mean_squared_error\n",
    "from ruptures.metrics import precision_recall\n",
    "import matplotlib.pyplot as plt\n",
    "#from aeon.visualisation import plot_series_with_change_points, plot_series_with_profiles\n",
    "import seaborn as sns\n",
    "\n",
    "sns.set_theme()\n",
    "sns.set_color_codes()\n",
    "\n",
    "from claspy.tests.evaluation import f_measure,covering"
   ]
  },
  {
   "cell_type": "code",
   "execution_count": 2,
   "metadata": {},
   "outputs": [],
   "source": [
    "def delnear(arr,range):\n",
    "    i = 0\n",
    "    while i < len(arr) - 1:\n",
    "        # Iniziamo con il primo elemento di un potenziale gruppo\n",
    "        gruppo_inizio = i\n",
    "        gruppo_fine = i\n",
    "\n",
    "        # Cerca gli elementi che fanno parte dello stesso gruppo\n",
    "        while gruppo_fine < len(arr) - 1 and arr[gruppo_fine + 1] - arr[gruppo_fine] < range:\n",
    "            gruppo_fine += 1\n",
    "\n",
    "        # Se esiste un gruppo di più elementi\n",
    "        if gruppo_fine > gruppo_inizio:\n",
    "            # Se la distanza tra l'inizio e la fine è minore di 50, elimina l'elemento maggiore (gruppo_fine)\n",
    "            if arr[gruppo_fine] - arr[gruppo_inizio] < range:\n",
    "                arr = np.delete(arr, gruppo_fine)\n",
    "            \n",
    "            # Elimina tutti gli elementi interni al gruppo\n",
    "            arr = np.concatenate((arr[:gruppo_inizio + 1], arr[gruppo_fine:]))\n",
    "\n",
    "        # Procedi con il prossimo gruppo\n",
    "        i = gruppo_inizio + 1\n",
    "\n",
    "    return arr"
   ]
  },
  {
   "cell_type": "code",
   "execution_count": 3,
   "metadata": {},
   "outputs": [],
   "source": [
    "def f1scoremargin(ground_truth, predictions, tolerance):\n",
    "    \"\"\"\n",
    "    Calcola l'F1 score con una finestra di tolleranza sui change points.\n",
    "    \n",
    "    :param ground_truth: Lista o array di change points reali\n",
    "    :param predictions: Lista o array di change points predetti\n",
    "    :param tolerance: La tolleranza temporale (numero di unità temporali)\n",
    "    :return: precision, recall, f1-score\n",
    "    \"\"\"\n",
    "    ground_truth = np.array(ground_truth)\n",
    "    predictions = np.array(predictions)\n",
    "    \n",
    "    # Vettori per tracciare quali punti sono stati già associati\n",
    "    matched_ground_truth = np.zeros(len(ground_truth), dtype=bool)\n",
    "    matched_predictions = np.zeros(len(predictions), dtype=bool)\n",
    "\n",
    "    mgt={key: False for key in ground_truth}\n",
    "    mcp={key: False for key in predictions}\n",
    "    #print(f'gt:{len(ground_truth)} - cp:{len(predictions)}')\n",
    "    # True Positives (TP)\n",
    "    tp = 0\n",
    "    for i, gt_point in enumerate(ground_truth):\n",
    "        for j, pred_point in enumerate(predictions):\n",
    "            if not matched_predictions[j] and abs(gt_point - pred_point) <= tolerance:\n",
    "                tp += 1\n",
    "                matched_ground_truth[i] = True\n",
    "                matched_predictions[j] = True\n",
    "\n",
    "                mgt[gt_point] = True\n",
    "                mcp[pred_point] = True\n",
    "                break\n",
    "            \n",
    "    \n",
    "    # False Positives (FP) - predizioni non corrispondenti a nessun ground truth entro la tolleranza\n",
    "    fp = np.sum(~matched_predictions)\n",
    "    \n",
    "    # False Negatives (FN) - punti del ground truth non corrispondenti a nessuna predizione entro la tolleranza\n",
    "    fn = np.sum(~matched_ground_truth)\n",
    "    #print(f'tp:{tp} - fp:{fp} - fn:{fn}')\n",
    "    #print(mgt)\n",
    "    #print(mcp)\n",
    "    # Calcolo di precision, recall e F1-score\n",
    "    precision = tp / (tp + fp) if (tp + fp) > 0 else 0\n",
    "    recall = tp / (tp + fn) if (tp + fn) > 0 else 0\n",
    "    f1 = 2 * (precision * recall) / (precision + recall) if (precision + recall) > 0 else 0\n",
    "    \n",
    "    return precision, recall, f1"
   ]
  },
  {
   "cell_type": "code",
   "execution_count": 4,
   "metadata": {},
   "outputs": [],
   "source": [
    "# Questi sono tutte le features estratte\n",
    "# kineticglobal,kineticchest,directnesshead,density,leftwristke,rightwristke,leftankleke,rightankleke,headke,posturaltension\n",
    "\n",
    "# Queste sono le feature che utilizzeremo\n",
    "# kineticglobal, density, leftwirstke, rightwristke, leftankleke, rightankleke, headke, posturaltension\n",
    "# che corrispondono\n",
    "# 2,4,5,6,7,8,9,10,11\n",
    "# Questa funzione legge il file di input e restituisce un dataframe con i dati preprocessati\n",
    "def ReadAndPreProcess(inputDataRaw):\n",
    "    # lettura\n",
    "    df=pd.read_csv(inputDataRaw,sep=' ', header=None)\n",
    "    df.drop(0, axis=1)\n",
    "    df[\"som\"]=df.sum(axis=1)\n",
    "    ## preprocessing\n",
    "\n",
    "    # dealing NaN values\n",
    "    #-serafino ha usato forward fill, backward fill, linear interpolation\n",
    "    #-ricordo che serafino aveva gia utilizzato sta cosa sui dati grezzi non sulle feature ma sui dati prefeature percio dovrebbe essere gia apposto\n",
    "\n",
    "    # downsampling\n",
    "    #-sono a 100ms, non sò se devo scendere a 50ms. da decidere\n",
    "    #-non lo faccio xk non mi interessa se va piu lento, guarda su notion per ulteriori informazioni\n",
    "\n",
    "    # low pass filter\n",
    "    #-Skogstad and colleagues (2013) e https://stackoverflow.com/questions/25191620/creating-lowpass-filter-in-scipy-understanding-methods-and-units\n",
    "    #-implementare dopo\n",
    "\n",
    "    # remove outliers\n",
    "    #-utilizzare hampel filter\n",
    "\n",
    "    # stretch\n",
    "    #-forse devo stretcharlo come ho fatto precedentemente\n",
    "    #-anche se nel codice precedente ho stretchato solo il groundtruth\n",
    "\n",
    "    # ritorno un oggetto dataframe dopo che è stato lavorato, ottenendo un prodotto lavorato\n",
    "    return df\n"
   ]
  },
  {
   "cell_type": "code",
   "execution_count": 5,
   "metadata": {},
   "outputs": [],
   "source": [
    "# questa funzione ritorna un dataframe del groundtruth che viene usato specificatamente per visualizzare il gt\n",
    "# è soggetto a un preprocessing dei dati siccome l'ultimo groundtruth è dove termina il ts del gt\n",
    "# di conseguenza per farlo corrispondere, bisogna stretcharlo\n",
    "# ma ricordo di aver rifatti i dati nuovi per generare un groundtruth a fine ts, da controllare cosi che non serve stretcharlo?\n",
    "def LoadingGroundTruth(df,gtraw):\n",
    "    gt=pd.read_csv(gtraw,sep=' ', header=None)\n",
    "    gt=gt.iloc[:,0].values\n",
    "    #stretching dei dati se necessario per farlo corrispondere alla ts dei dati\n",
    "    stretch_gt = np.array([])\n",
    "    for idx,i in enumerate(gt):\n",
    "        relpos = len(df)*i/gt[-1]\n",
    "        stretch_gt = np.append(stretch_gt,relpos)\n",
    "\n",
    "    # eliminiamo l'ultimo elemento che è stato annotato solo per delimitare la lunghezza della gt simile alla ts\n",
    "    return stretch_gt[:-1]"
   ]
  },
  {
   "cell_type": "code",
   "execution_count": 6,
   "metadata": {},
   "outputs": [],
   "source": [
    "# utilizzo CLASP \n",
    "# prende come parametro un dataframe e restituisce il clasp score\n",
    "# gt e known vengono usati per usare il numero vero di cp se uguale a 1 sennò si cerca di predirlo se il modello lo permette\n",
    "def GetClasp(df,gt,known, **kwargs):\n",
    "    \n",
    "    result=np.array([])\n",
    "    eachresult = []\n",
    "    eachclasp=[]\n",
    "    for idx,i in enumerate([2,4,5,6,7,8,9,10,11]):\n",
    "      \n",
    "        ts=df.iloc[:,i]\n",
    "        clasp = BinaryClaSPSegmentation(**kwargs)\n",
    "        found_cps = clasp.fit_predict(ts.values)    \n",
    "\n",
    "        # c'è un bug con binseg dove un cp è oltre la lunghezza del ts\n",
    "        # faccio un loop e se eccede cambio il valore con la len(tf)-1\n",
    "        for i in range(0,len(found_cps)):\n",
    "            if found_cps[i] >= len(ts):\n",
    "                found_cps[i] = len(ts)-1\n",
    "\n",
    "        # per ogni array di cp di ogni singola feature\n",
    "        # li unisco in un unico array. in pratica faccio un OR di tutti i cp\n",
    "        result = np.sort(np.append(result,found_cps).flatten())\n",
    "        result = np.unique(result)\n",
    "        eachresult.append(found_cps)\n",
    "        eachclasp.append(clasp)\n",
    "        \n",
    "        \n",
    "\n",
    "        \n",
    "    return result, eachresult, eachclasp\n",
    "        \n",
    "    \n"
   ]
  },
  {
   "cell_type": "code",
   "execution_count": 7,
   "metadata": {},
   "outputs": [],
   "source": [
    "# calcola i vari scores dati il groundtruth e il prediction\n",
    "# puo salvare il risultato su file per evitare di perderli\n",
    "# prende come parametro nome del groundtruth, groundtruth, nome della timeseries e il prediction\n",
    "def Evaluate(modelName,gtName, gt, tsName, cp, df, margin,msg, nomeFile):\n",
    "    # creo dei array di lunghezza come la ts cosi possono fare il confronto\n",
    "    # sia per il gt che per il pd\n",
    "  \n",
    "    cpnump = np.array(cp)\n",
    "    gtnump = np.array(gt)\n",
    "\n",
    "    cp_long = np.zeros(len(df)+1)\n",
    "    cp_long[cpnump.astype(int)]=1\n",
    "\n",
    "    gt_long = np.zeros(len(df)+1)\n",
    "    gt_long[gtnump.astype(int)]=1\n",
    "\n",
    "    # calcolo lo score \n",
    "    print(f'f1margin: {f1scoremargin(gt.astype(int),cp.astype(int),margin)}')\n",
    "    precision,recall,f1=f1scoremargin(gt.astype(int),cp.astype(int),margin)\n",
    "\n",
    "    return precision,recall,f1\n",
    "     #scrivo su file il risultato\n",
    "\n",
    "    \"\"\"\n",
    "    f = open(\"outputFile/ClaSPallresult\", \"a\")\n",
    "    f.write(nomeFile+\"\\n\")\n",
    "    f.write(msg+\"\\n\")\n",
    "    f.write(\"precision:\"+str(precision)+\" recall:\"+str(recall)+\" f1:\"+str(f1)+\" \\n\")\n",
    "    f.write(\"\\n\")\n",
    "    f.close()\n",
    "    \"\"\"\n",
    "    "
   ]
  },
  {
   "cell_type": "code",
   "execution_count": 8,
   "metadata": {},
   "outputs": [],
   "source": [
    "def Plotclasp(eachclasp,gt,margin,eachcp,nomeFile):\n",
    "    \n",
    "    for idx,clasp in enumerate(eachclasp):\n",
    "        clasp.plot(gt_cps=gt.astype(int), heading=f'f1margin: {f1scoremargin(gt.astype(int),eachcp[idx].astype(int),margin)} {nomeFile}', ts_name=\"suss\", file_path=\"segmentation_example.png\")\n",
    "\n",
    "\n",
    "    \n",
    "        for idx2,j in enumerate(gt.astype(int)):\n",
    "            plt.fill_betweenx(np.array([0, 1]), j-margin, j+margin, color='green', alpha=0.3)\n"
   ]
  },
  {
   "cell_type": "code",
   "execution_count": 9,
   "metadata": {},
   "outputs": [],
   "source": [
    "def PlotResult(df,gt,cp, nomeFile, margin):\n",
    "    #da testare quando ho piu valori\n",
    "    #clasp.plot(gt_cps=gt.astype(int), heading=\"Segmentation of different umpire cricket signals\", ts_name=\"ACC\", file_path=\"segmentation_example.png\")\n",
    "\n",
    "    plt.figure(figsize=(18,9))\n",
    "    plt.plot(np.arange(len(df[\"som\"].values)),df[\"som\"].values,'blue',linewidth=0.5)\n",
    "    for idx2,i in enumerate(gt.astype(int)):\n",
    "\n",
    "            plt.axvline(x = i, color = 'green',linewidth=1) \n",
    "            \n",
    "    for j in cp.tolist():\n",
    "        plt.axvline(x = j, color = 'red',linewidth=1,linestyle=\"-.\") \n",
    "\n",
    "    for idx2,k in enumerate(gt.astype(int)):\n",
    "            plt.fill_betweenx(np.array([0, 1]), k-margin, k+margin, color='green', alpha=0.3)\n",
    "    plt.xlabel(f'{nomeFile} {f1scoremargin(gt.astype(int),cp.astype(int),margin)}')\n",
    "\n"
   ]
  },
  {
   "cell_type": "code",
   "execution_count": 10,
   "metadata": {},
   "outputs": [],
   "source": [
    "timeseries=[\n",
    "    \"in\\cora1_input.txt\",\n",
    "      \"in\\cora4_input.txt\",\n",
    "      \"in\\cora5_input.txt\",\n",
    "      \"in\\cora14_input.txt\",\n",
    "      \"in\\marianne7_input.txt\",\n",
    "      \"in\\marianne8_input.txt\",\n",
    "      \"in\\marianne10_input.txt\",\n",
    "      \"in\\marianne18_input.txt\",\n",
    "      \"in\\marianne19_input.txt\",\n",
    "      \"in\\marianne24_input.txt\",\n",
    "      \"in\\marianne26_input.txt\",\n",
    "      \"in\\marianne41_input.txt\",\n",
    "      \"in\\marianne42_input.txt\",\n",
    "      \"in\\marianne43_input.txt\",\n",
    "      \"in\\marianne47_input.txt\",\n",
    "      \"in\\marianne48_input.txt\",\n",
    "      \"in\\muriel18_input.txt\",\n",
    "      \"in\\muriel26_input.txt\",\n",
    "      \"in\\muriel27_input.txt\",\n",
    "      \"in\\muriel30_input.txt\"\n",
    "\n",
    "      ]\n",
    "groundtruth=[\n",
    "         \"gt\\cora_gt_2019-08-08_t001_video01.txt\",\n",
    "         \"gt\\cora_gt_2019-08-08_t004_video01.txt\",\n",
    "         \"gt\\cora5_gt.txt\",\n",
    "         \"gt\\cora_gt_2019-08-08_t014_video01.txt\",\n",
    "         \"gt\\marianne_gt_2016-03-22_t007_video01.txt\",\n",
    "         \"gt\\marianne_gt_2016-03-22_t008_video01.txt\",\n",
    "         \"gt\\marianne_gt_2016-03-22_t010_video01.txt\",\n",
    "         \"gt\\marianne_gt_2016-03-22_t018_video01.txt\",\n",
    "         \"gt\\marianne_gt_2016-03-22_t019_video01.txt\",\n",
    "         \"gt\\marianne_gt_2016-03-22_t024_video01.txt\",\n",
    "         \"gt\\marianne_gt_2016-03-22_t026_video01.txt\",\n",
    "         \"gt\\marianne_gt_2016-03-22_t041_video01.txt\",\n",
    "         \"gt\\marianne_gt_2016-03-22_t042_video01.txt\",\n",
    "         \"gt\\marianne_gt_2016-03-22_t043_video01.txt\",\n",
    "         \"gt\\marianne_gt_2016-03-22_t047_video01.txt\",\n",
    "         \"gt\\marianne_gt_2016-03-22_t048_video01.txt\",\n",
    "         \"gt\\muriel_gt_2016-03-21_t018_video01.txt\",\n",
    "         \"gt\\muriel_gt_2016-03-21_t026_video01.txt\",\n",
    "         \"gt\\muriel_gt_2016-03-21_t027_video01.txt\",\n",
    "         \"gt\\muriel_gt_2016-03-23_t030_video01.txt\"\n",
    "         ]\n"
   ]
  },
  {
   "cell_type": "code",
   "execution_count": 11,
   "metadata": {},
   "outputs": [
    {
     "name": "stdout",
     "output_type": "stream",
     "text": [
      "0\n"
     ]
    },
    {
     "name": "stderr",
     "output_type": "stream",
     "text": [
      "C:\\Users\\loluc\\AppData\\Local\\Packages\\PythonSoftwareFoundation.Python.3.10_qbz5n2kfra8p0\\LocalCache\\local-packages\\Python310\\site-packages\\claspy\\nearest_neighbour.py:252: NumbaTypeSafetyWarning: \u001b[1m\u001b[1m\u001b[1munsafe cast from uint64 to int64. Precision may be lost.\u001b[0m\u001b[0m\u001b[0m\n",
      "  start, end = pranges[idx]\n"
     ]
    },
    {
     "name": "stdout",
     "output_type": "stream",
     "text": [
      "f1margin: (0.5, 0.28125, 0.36)\n",
      "1\n",
      "f1margin: (0.6666666666666666, 0.25, 0.36363636363636365)\n",
      "2\n",
      "f1margin: (0.3888888888888889, 0.8235294117647058, 0.5283018867924528)\n",
      "3\n",
      "f1margin: (1.0, 0.04, 0.07692307692307693)\n",
      "4\n"
     ]
    },
    {
     "name": "stderr",
     "output_type": "stream",
     "text": [
      "C:\\Users\\loluc\\AppData\\Local\\Packages\\PythonSoftwareFoundation.Python.3.10_qbz5n2kfra8p0\\LocalCache\\local-packages\\Python310\\site-packages\\scipy\\stats\\_stats_py.py:9205: RuntimeWarning: invalid value encountered in scalar divide\n",
      "  z = (s - expected) / np.sqrt(n1*n2*(n1+n2+1)/12.0)\n"
     ]
    },
    {
     "name": "stdout",
     "output_type": "stream",
     "text": [
      "f1margin: (0.0, 0.0, 0)\n",
      "5\n",
      "f1margin: (1.0, 0.07407407407407407, 0.13793103448275862)\n",
      "6\n",
      "f1margin: (1.0, 0.07692307692307693, 0.14285714285714288)\n",
      "7\n",
      "f1margin: (0.5, 0.038461538461538464, 0.07142857142857144)\n",
      "8\n",
      "f1margin: (1.0, 0.06666666666666667, 0.125)\n",
      "9\n",
      "f1margin: (1.0, 0.045454545454545456, 0.08695652173913045)\n",
      "10\n",
      "f1margin: (0, 0.0, 0)\n",
      "11\n",
      "f1margin: (0.5, 0.07692307692307693, 0.13333333333333336)\n",
      "12\n",
      "f1margin: (0.0, 0.0, 0)\n",
      "13\n",
      "f1margin: (0.3333333333333333, 0.1282051282051282, 0.18518518518518517)\n",
      "14\n",
      "f1margin: (0, 0.0, 0)\n",
      "15\n",
      "f1margin: (1.0, 0.058823529411764705, 0.1111111111111111)\n",
      "16\n",
      "f1margin: (1.0, 0.08571428571428572, 0.15789473684210528)\n",
      "17\n",
      "f1margin: (0.0, 0.0, 0)\n",
      "18\n",
      "f1margin: (1.0, 0.012658227848101266, 0.024999999999999998)\n",
      "19\n",
      "f1margin: (0.75, 0.15789473684210525, 0.2608695652173913)\n",
      "0\n",
      "f1margin: (0.3333333333333333, 0.09375, 0.14634146341463417)\n",
      "1\n",
      "f1margin: (1.0, 0.25, 0.4)\n",
      "2\n",
      "f1margin: (0.45161290322580644, 0.8235294117647058, 0.5833333333333333)\n",
      "3\n",
      "f1margin: (1.0, 0.16, 0.2758620689655173)\n",
      "4\n",
      "f1margin: (0.5, 0.047619047619047616, 0.08695652173913042)\n",
      "5\n",
      "f1margin: (1.0, 0.07407407407407407, 0.13793103448275862)\n",
      "6\n"
     ]
    },
    {
     "name": "stderr",
     "output_type": "stream",
     "text": [
      "C:\\Users\\loluc\\AppData\\Local\\Packages\\PythonSoftwareFoundation.Python.3.10_qbz5n2kfra8p0\\LocalCache\\local-packages\\Python310\\site-packages\\claspy\\segmentation.py:212: UserWarning: Time series must at least have 2*min_seg_size data points for segmentation. Try setting a smaller window size.\n",
      "  warnings.warn(\n"
     ]
    },
    {
     "name": "stdout",
     "output_type": "stream",
     "text": [
      "f1margin: (1.0, 0.19230769230769232, 0.32258064516129037)\n",
      "7\n",
      "f1margin: (1.0, 0.11538461538461539, 0.20689655172413793)\n",
      "8\n",
      "f1margin: (1.0, 0.044444444444444446, 0.0851063829787234)\n",
      "9\n",
      "f1margin: (0.3333333333333333, 0.045454545454545456, 0.08)\n",
      "10\n"
     ]
    },
    {
     "name": "stderr",
     "output_type": "stream",
     "text": [
      "C:\\Users\\loluc\\AppData\\Local\\Packages\\PythonSoftwareFoundation.Python.3.10_qbz5n2kfra8p0\\LocalCache\\local-packages\\Python310\\site-packages\\claspy\\segmentation.py:212: UserWarning: Time series must at least have 2*min_seg_size data points for segmentation. Try setting a smaller window size.\n",
      "  warnings.warn(\n"
     ]
    },
    {
     "name": "stdout",
     "output_type": "stream",
     "text": [
      "f1margin: (1.0, 0.14285714285714285, 0.25)\n",
      "11\n",
      "f1margin: (0.5, 0.07692307692307693, 0.13333333333333336)\n",
      "12\n",
      "f1margin: (0.0, 0.0, 0)\n",
      "13\n",
      "f1margin: (0.6, 0.15384615384615385, 0.2448979591836735)\n",
      "14\n"
     ]
    },
    {
     "name": "stderr",
     "output_type": "stream",
     "text": [
      "C:\\Users\\loluc\\AppData\\Local\\Packages\\PythonSoftwareFoundation.Python.3.10_qbz5n2kfra8p0\\LocalCache\\local-packages\\Python310\\site-packages\\claspy\\segmentation.py:212: UserWarning: Time series must at least have 2*min_seg_size data points for segmentation. Try setting a smaller window size.\n",
      "  warnings.warn(\n"
     ]
    },
    {
     "name": "stdout",
     "output_type": "stream",
     "text": [
      "f1margin: (0, 0.0, 0)\n",
      "15\n"
     ]
    },
    {
     "name": "stderr",
     "output_type": "stream",
     "text": [
      "C:\\Users\\loluc\\AppData\\Local\\Packages\\PythonSoftwareFoundation.Python.3.10_qbz5n2kfra8p0\\LocalCache\\local-packages\\Python310\\site-packages\\claspy\\segmentation.py:212: UserWarning: Time series must at least have 2*min_seg_size data points for segmentation. Try setting a smaller window size.\n",
      "  warnings.warn(\n"
     ]
    },
    {
     "name": "stdout",
     "output_type": "stream",
     "text": [
      "f1margin: (1.0, 0.17647058823529413, 0.3)\n",
      "16\n",
      "f1margin: (1.0, 0.02857142857142857, 0.05555555555555556)\n",
      "17\n",
      "f1margin: (0.75, 0.04, 0.07594936708860758)\n",
      "18\n",
      "f1margin: (1.0, 0.012658227848101266, 0.024999999999999998)\n",
      "19\n",
      "f1margin: (0.8333333333333334, 0.13157894736842105, 0.22727272727272727)\n",
      "0\n",
      "f1margin: (0.4, 0.1875, 0.25531914893617025)\n",
      "1\n"
     ]
    },
    {
     "name": "stderr",
     "output_type": "stream",
     "text": [
      "C:\\Users\\loluc\\AppData\\Local\\Packages\\PythonSoftwareFoundation.Python.3.10_qbz5n2kfra8p0\\LocalCache\\local-packages\\Python310\\site-packages\\claspy\\segmentation.py:212: UserWarning: Time series must at least have 2*min_seg_size data points for segmentation. Try setting a smaller window size.\n",
      "  warnings.warn(\n"
     ]
    },
    {
     "name": "stdout",
     "output_type": "stream",
     "text": [
      "f1margin: (0.8333333333333334, 0.3125, 0.45454545454545453)\n",
      "2\n",
      "f1margin: (0.38461538461538464, 0.8823529411764706, 0.5357142857142858)\n",
      "3\n"
     ]
    },
    {
     "name": "stderr",
     "output_type": "stream",
     "text": [
      "C:\\Users\\loluc\\AppData\\Local\\Packages\\PythonSoftwareFoundation.Python.3.10_qbz5n2kfra8p0\\LocalCache\\local-packages\\Python310\\site-packages\\claspy\\segmentation.py:212: UserWarning: Time series must at least have 2*min_seg_size data points for segmentation. Try setting a smaller window size.\n",
      "  warnings.warn(\n"
     ]
    },
    {
     "name": "stdout",
     "output_type": "stream",
     "text": [
      "f1margin: (1.0, 0.16, 0.2758620689655173)\n",
      "4\n",
      "f1margin: (0.8333333333333334, 0.23809523809523808, 0.37037037037037035)\n",
      "5\n"
     ]
    },
    {
     "name": "stderr",
     "output_type": "stream",
     "text": [
      "C:\\Users\\loluc\\AppData\\Local\\Packages\\PythonSoftwareFoundation.Python.3.10_qbz5n2kfra8p0\\LocalCache\\local-packages\\Python310\\site-packages\\claspy\\segmentation.py:212: UserWarning: Time series must at least have 2*min_seg_size data points for segmentation. Try setting a smaller window size.\n",
      "  warnings.warn(\n"
     ]
    },
    {
     "name": "stdout",
     "output_type": "stream",
     "text": [
      "f1margin: (1.0, 0.037037037037037035, 0.07142857142857142)\n",
      "6\n"
     ]
    },
    {
     "name": "stderr",
     "output_type": "stream",
     "text": [
      "C:\\Users\\loluc\\AppData\\Local\\Packages\\PythonSoftwareFoundation.Python.3.10_qbz5n2kfra8p0\\LocalCache\\local-packages\\Python310\\site-packages\\claspy\\segmentation.py:212: UserWarning: Time series must at least have 2*min_seg_size data points for segmentation. Try setting a smaller window size.\n",
      "  warnings.warn(\n"
     ]
    },
    {
     "name": "stdout",
     "output_type": "stream",
     "text": [
      "f1margin: (1.0, 0.038461538461538464, 0.07407407407407407)\n",
      "7\n",
      "f1margin: (1.0, 0.07692307692307693, 0.14285714285714288)\n",
      "8\n",
      "f1margin: (1.0, 0.044444444444444446, 0.0851063829787234)\n",
      "9\n",
      "f1margin: (0.5, 0.045454545454545456, 0.08333333333333334)\n",
      "10\n",
      "f1margin: (1.0, 0.09523809523809523, 0.17391304347826084)\n",
      "11\n"
     ]
    },
    {
     "name": "stderr",
     "output_type": "stream",
     "text": [
      "C:\\Users\\loluc\\AppData\\Local\\Packages\\PythonSoftwareFoundation.Python.3.10_qbz5n2kfra8p0\\LocalCache\\local-packages\\Python310\\site-packages\\claspy\\segmentation.py:212: UserWarning: Time series must at least have 2*min_seg_size data points for segmentation. Try setting a smaller window size.\n",
      "  warnings.warn(\n"
     ]
    },
    {
     "name": "stdout",
     "output_type": "stream",
     "text": [
      "f1margin: (0.6666666666666666, 0.15384615384615385, 0.25)\n",
      "12\n"
     ]
    },
    {
     "name": "stderr",
     "output_type": "stream",
     "text": [
      "C:\\Users\\loluc\\AppData\\Local\\Packages\\PythonSoftwareFoundation.Python.3.10_qbz5n2kfra8p0\\LocalCache\\local-packages\\Python310\\site-packages\\claspy\\window_size.py:213: UserWarning: Could not find any autocorrelation peaks. Using window_size=10.\n",
      "  warnings.warn(f\"Could not find any autocorrelation peaks. Using window_size={lbound}.\")\n"
     ]
    },
    {
     "name": "stdout",
     "output_type": "stream",
     "text": [
      "f1margin: (0.5, 0.1111111111111111, 0.1818181818181818)\n",
      "13\n",
      "f1margin: (0.5555555555555556, 0.2564102564102564, 0.3508771929824561)\n",
      "14\n"
     ]
    },
    {
     "name": "stderr",
     "output_type": "stream",
     "text": [
      "C:\\Users\\loluc\\AppData\\Local\\Packages\\PythonSoftwareFoundation.Python.3.10_qbz5n2kfra8p0\\LocalCache\\local-packages\\Python310\\site-packages\\claspy\\segmentation.py:212: UserWarning: Time series must at least have 2*min_seg_size data points for segmentation. Try setting a smaller window size.\n",
      "  warnings.warn(\n"
     ]
    },
    {
     "name": "stdout",
     "output_type": "stream",
     "text": [
      "f1margin: (1.0, 0.058823529411764705, 0.1111111111111111)\n",
      "15\n"
     ]
    },
    {
     "name": "stderr",
     "output_type": "stream",
     "text": [
      "C:\\Users\\loluc\\AppData\\Local\\Packages\\PythonSoftwareFoundation.Python.3.10_qbz5n2kfra8p0\\LocalCache\\local-packages\\Python310\\site-packages\\claspy\\segmentation.py:212: UserWarning: Time series must at least have 2*min_seg_size data points for segmentation. Try setting a smaller window size.\n",
      "  warnings.warn(\n"
     ]
    },
    {
     "name": "stdout",
     "output_type": "stream",
     "text": [
      "f1margin: (1.0, 0.11764705882352941, 0.21052631578947367)\n",
      "16\n",
      "f1margin: (1.0, 0.02857142857142857, 0.05555555555555556)\n",
      "17\n",
      "f1margin: (0.0, 0.0, 0)\n",
      "18\n",
      "f1margin: (0, 0.0, 0)\n",
      "19\n",
      "f1margin: (0.9090909090909091, 0.2631578947368421, 0.4081632653061224)\n",
      "0\n",
      "f1margin: (0.41025641025641024, 0.5, 0.4507042253521127)\n",
      "1\n",
      "f1margin: (0.5714285714285714, 0.5, 0.5333333333333333)\n",
      "2\n",
      "f1margin: (0.35714285714285715, 0.8823529411764706, 0.5084745762711864)\n",
      "3\n",
      "f1margin: (0.7857142857142857, 0.44, 0.5641025641025641)\n",
      "4\n",
      "f1margin: (0.5384615384615384, 0.6666666666666666, 0.5957446808510638)\n",
      "5\n",
      "f1margin: (1.0, 0.25925925925925924, 0.4117647058823529)\n",
      "6\n",
      "f1margin: (0.7777777777777778, 0.2692307692307692, 0.39999999999999997)\n",
      "7\n",
      "f1margin: (0.6363636363636364, 0.2692307692307692, 0.37837837837837834)\n",
      "8\n",
      "f1margin: (0.7692307692307693, 0.2222222222222222, 0.3448275862068966)\n",
      "9\n",
      "f1margin: (0.5217391304347826, 0.5454545454545454, 0.5333333333333332)\n",
      "10\n",
      "f1margin: (0.5, 0.09523809523809523, 0.16)\n",
      "11\n",
      "f1margin: (0.6923076923076923, 0.6923076923076923, 0.6923076923076923)\n",
      "12\n",
      "f1margin: (0.13793103448275862, 0.4444444444444444, 0.21052631578947367)\n",
      "13\n",
      "f1margin: (0.5098039215686274, 0.6666666666666666, 0.5777777777777778)\n",
      "14\n",
      "f1margin: (1.0, 0.4117647058823529, 0.5833333333333334)\n",
      "15\n",
      "f1margin: (0.8571428571428571, 0.35294117647058826, 0.5)\n",
      "16\n",
      "f1margin: (0.7647058823529411, 0.37142857142857144, 0.5)\n",
      "17\n"
     ]
    },
    {
     "name": "stderr",
     "output_type": "stream",
     "text": [
      "C:\\Users\\loluc\\AppData\\Local\\Packages\\PythonSoftwareFoundation.Python.3.10_qbz5n2kfra8p0\\LocalCache\\local-packages\\Python310\\site-packages\\scipy\\stats\\_stats_py.py:9205: RuntimeWarning: invalid value encountered in scalar divide\n",
      "  z = (s - expected) / np.sqrt(n1*n2*(n1+n2+1)/12.0)\n"
     ]
    },
    {
     "name": "stdout",
     "output_type": "stream",
     "text": [
      "f1margin: (0.6511627906976745, 0.37333333333333335, 0.4745762711864407)\n",
      "18\n",
      "f1margin: (0.9230769230769231, 0.3037974683544304, 0.45714285714285713)\n",
      "19\n",
      "f1margin: (0.5853658536585366, 0.631578947368421, 0.6075949367088608)\n",
      "0\n",
      "f1margin: (0.5, 0.375, 0.42857142857142855)\n",
      "1\n",
      "f1margin: (0.4444444444444444, 0.25, 0.32)\n",
      "2\n",
      "f1margin: (0.40540540540540543, 0.8823529411764706, 0.5555555555555556)\n",
      "3\n",
      "f1margin: (1.0, 0.44, 0.6111111111111112)\n",
      "4\n",
      "f1margin: (0.6428571428571429, 0.42857142857142855, 0.5142857142857143)\n",
      "5\n",
      "f1margin: (0.9, 0.3333333333333333, 0.48648648648648646)\n",
      "6\n"
     ]
    },
    {
     "name": "stderr",
     "output_type": "stream",
     "text": [
      "C:\\Users\\loluc\\AppData\\Local\\Packages\\PythonSoftwareFoundation.Python.3.10_qbz5n2kfra8p0\\LocalCache\\local-packages\\Python310\\site-packages\\claspy\\segmentation.py:212: UserWarning: Time series must at least have 2*min_seg_size data points for segmentation. Try setting a smaller window size.\n",
      "  warnings.warn(\n"
     ]
    },
    {
     "name": "stdout",
     "output_type": "stream",
     "text": [
      "f1margin: (1.0, 0.15384615384615385, 0.2666666666666667)\n",
      "7\n",
      "f1margin: (0.7777777777777778, 0.2692307692307692, 0.39999999999999997)\n",
      "8\n",
      "f1margin: (1.0, 0.26666666666666666, 0.4210526315789474)\n",
      "9\n",
      "f1margin: (0.38461538461538464, 0.22727272727272727, 0.2857142857142857)\n",
      "10\n"
     ]
    },
    {
     "name": "stderr",
     "output_type": "stream",
     "text": [
      "C:\\Users\\loluc\\AppData\\Local\\Packages\\PythonSoftwareFoundation.Python.3.10_qbz5n2kfra8p0\\LocalCache\\local-packages\\Python310\\site-packages\\claspy\\segmentation.py:212: UserWarning: Time series must at least have 2*min_seg_size data points for segmentation. Try setting a smaller window size.\n",
      "  warnings.warn(\n"
     ]
    },
    {
     "name": "stdout",
     "output_type": "stream",
     "text": [
      "f1margin: (1.0, 0.2857142857142857, 0.4444444444444445)\n",
      "11\n",
      "f1margin: (0.4, 0.15384615384615385, 0.2222222222222222)\n",
      "12\n",
      "f1margin: (0.07142857142857142, 0.1111111111111111, 0.08695652173913043)\n",
      "13\n",
      "f1margin: (0.5925925925925926, 0.41025641025641024, 0.4848484848484849)\n",
      "14\n"
     ]
    },
    {
     "name": "stderr",
     "output_type": "stream",
     "text": [
      "C:\\Users\\loluc\\AppData\\Local\\Packages\\PythonSoftwareFoundation.Python.3.10_qbz5n2kfra8p0\\LocalCache\\local-packages\\Python310\\site-packages\\claspy\\segmentation.py:212: UserWarning: Time series must at least have 2*min_seg_size data points for segmentation. Try setting a smaller window size.\n",
      "  warnings.warn(\n"
     ]
    },
    {
     "name": "stdout",
     "output_type": "stream",
     "text": [
      "f1margin: (1.0, 0.23529411764705882, 0.38095238095238093)\n",
      "15\n"
     ]
    },
    {
     "name": "stderr",
     "output_type": "stream",
     "text": [
      "C:\\Users\\loluc\\AppData\\Local\\Packages\\PythonSoftwareFoundation.Python.3.10_qbz5n2kfra8p0\\LocalCache\\local-packages\\Python310\\site-packages\\claspy\\segmentation.py:212: UserWarning: Time series must at least have 2*min_seg_size data points for segmentation. Try setting a smaller window size.\n",
      "  warnings.warn(\n"
     ]
    },
    {
     "name": "stdout",
     "output_type": "stream",
     "text": [
      "f1margin: (0.8571428571428571, 0.35294117647058826, 0.5)\n",
      "16\n",
      "f1margin: (0.8, 0.11428571428571428, 0.19999999999999998)\n",
      "17\n",
      "f1margin: (0.625, 0.13333333333333333, 0.21978021978021978)\n",
      "18\n",
      "f1margin: (1.0, 0.16455696202531644, 0.2826086956521739)\n",
      "19\n",
      "f1margin: (0.8181818181818182, 0.23684210526315788, 0.3673469387755102)\n",
      "0\n",
      "f1margin: (0.3157894736842105, 0.375, 0.34285714285714286)\n",
      "1\n"
     ]
    },
    {
     "name": "stderr",
     "output_type": "stream",
     "text": [
      "C:\\Users\\loluc\\AppData\\Local\\Packages\\PythonSoftwareFoundation.Python.3.10_qbz5n2kfra8p0\\LocalCache\\local-packages\\Python310\\site-packages\\claspy\\segmentation.py:212: UserWarning: Time series must at least have 2*min_seg_size data points for segmentation. Try setting a smaller window size.\n",
      "  warnings.warn(\n"
     ]
    },
    {
     "name": "stdout",
     "output_type": "stream",
     "text": [
      "f1margin: (0.5, 0.5, 0.5)\n",
      "2\n",
      "f1margin: (0.34782608695652173, 0.9411764705882353, 0.5079365079365079)\n",
      "3\n"
     ]
    },
    {
     "name": "stderr",
     "output_type": "stream",
     "text": [
      "C:\\Users\\loluc\\AppData\\Local\\Packages\\PythonSoftwareFoundation.Python.3.10_qbz5n2kfra8p0\\LocalCache\\local-packages\\Python310\\site-packages\\claspy\\segmentation.py:212: UserWarning: Time series must at least have 2*min_seg_size data points for segmentation. Try setting a smaller window size.\n",
      "  warnings.warn(\n"
     ]
    },
    {
     "name": "stdout",
     "output_type": "stream",
     "text": [
      "f1margin: (0.8571428571428571, 0.48, 0.6153846153846153)\n",
      "4\n",
      "f1margin: (0.5714285714285714, 0.38095238095238093, 0.4571428571428571)\n",
      "5\n"
     ]
    },
    {
     "name": "stderr",
     "output_type": "stream",
     "text": [
      "C:\\Users\\loluc\\AppData\\Local\\Packages\\PythonSoftwareFoundation.Python.3.10_qbz5n2kfra8p0\\LocalCache\\local-packages\\Python310\\site-packages\\claspy\\segmentation.py:212: UserWarning: Time series must at least have 2*min_seg_size data points for segmentation. Try setting a smaller window size.\n",
      "  warnings.warn(\n"
     ]
    },
    {
     "name": "stdout",
     "output_type": "stream",
     "text": [
      "f1margin: (0.9230769230769231, 0.4444444444444444, 0.6)\n",
      "6\n"
     ]
    },
    {
     "name": "stderr",
     "output_type": "stream",
     "text": [
      "C:\\Users\\loluc\\AppData\\Local\\Packages\\PythonSoftwareFoundation.Python.3.10_qbz5n2kfra8p0\\LocalCache\\local-packages\\Python310\\site-packages\\claspy\\segmentation.py:212: UserWarning: Time series must at least have 2*min_seg_size data points for segmentation. Try setting a smaller window size.\n",
      "  warnings.warn(\n"
     ]
    },
    {
     "name": "stdout",
     "output_type": "stream",
     "text": [
      "f1margin: (1.0, 0.3076923076923077, 0.47058823529411764)\n",
      "7\n",
      "f1margin: (0.8571428571428571, 0.23076923076923078, 0.36363636363636365)\n",
      "8\n",
      "f1margin: (0.7857142857142857, 0.24444444444444444, 0.3728813559322034)\n",
      "9\n",
      "f1margin: (0.42857142857142855, 0.5454545454545454, 0.4799999999999999)\n",
      "10\n",
      "f1margin: (1.0, 0.23809523809523808, 0.3846153846153846)\n",
      "11\n"
     ]
    },
    {
     "name": "stderr",
     "output_type": "stream",
     "text": [
      "C:\\Users\\loluc\\AppData\\Local\\Packages\\PythonSoftwareFoundation.Python.3.10_qbz5n2kfra8p0\\LocalCache\\local-packages\\Python310\\site-packages\\claspy\\segmentation.py:212: UserWarning: Time series must at least have 2*min_seg_size data points for segmentation. Try setting a smaller window size.\n",
      "  warnings.warn(\n"
     ]
    },
    {
     "name": "stdout",
     "output_type": "stream",
     "text": [
      "f1margin: (0.6, 0.46153846153846156, 0.5217391304347826)\n",
      "12\n"
     ]
    },
    {
     "name": "stderr",
     "output_type": "stream",
     "text": [
      "C:\\Users\\loluc\\AppData\\Local\\Packages\\PythonSoftwareFoundation.Python.3.10_qbz5n2kfra8p0\\LocalCache\\local-packages\\Python310\\site-packages\\claspy\\window_size.py:213: UserWarning: Could not find any autocorrelation peaks. Using window_size=10.\n",
      "  warnings.warn(f\"Could not find any autocorrelation peaks. Using window_size={lbound}.\")\n",
      "C:\\Users\\loluc\\AppData\\Local\\Packages\\PythonSoftwareFoundation.Python.3.10_qbz5n2kfra8p0\\LocalCache\\local-packages\\Python310\\site-packages\\scipy\\stats\\_stats_py.py:9205: RuntimeWarning: invalid value encountered in scalar divide\n",
      "  z = (s - expected) / np.sqrt(n1*n2*(n1+n2+1)/12.0)\n"
     ]
    },
    {
     "name": "stdout",
     "output_type": "stream",
     "text": [
      "f1margin: (0.03571428571428571, 0.1111111111111111, 0.05405405405405406)\n",
      "13\n",
      "f1margin: (0.46774193548387094, 0.7435897435897436, 0.5742574257425742)\n",
      "14\n"
     ]
    },
    {
     "name": "stderr",
     "output_type": "stream",
     "text": [
      "C:\\Users\\loluc\\AppData\\Local\\Packages\\PythonSoftwareFoundation.Python.3.10_qbz5n2kfra8p0\\LocalCache\\local-packages\\Python310\\site-packages\\claspy\\segmentation.py:212: UserWarning: Time series must at least have 2*min_seg_size data points for segmentation. Try setting a smaller window size.\n",
      "  warnings.warn(\n"
     ]
    },
    {
     "name": "stdout",
     "output_type": "stream",
     "text": [
      "f1margin: (1.0, 0.29411764705882354, 0.45454545454545453)\n",
      "15\n"
     ]
    },
    {
     "name": "stderr",
     "output_type": "stream",
     "text": [
      "C:\\Users\\loluc\\AppData\\Local\\Packages\\PythonSoftwareFoundation.Python.3.10_qbz5n2kfra8p0\\LocalCache\\local-packages\\Python310\\site-packages\\claspy\\segmentation.py:212: UserWarning: Time series must at least have 2*min_seg_size data points for segmentation. Try setting a smaller window size.\n",
      "  warnings.warn(\n"
     ]
    },
    {
     "name": "stdout",
     "output_type": "stream",
     "text": [
      "f1margin: (0.8571428571428571, 0.35294117647058826, 0.5)\n",
      "16\n",
      "f1margin: (0.8666666666666667, 0.37142857142857144, 0.52)\n",
      "17\n",
      "f1margin: (0.5714285714285714, 0.21333333333333335, 0.3106796116504854)\n",
      "18\n",
      "f1margin: (0.9375, 0.189873417721519, 0.3157894736842105)\n",
      "19\n",
      "f1margin: (0.5263157894736842, 0.5263157894736842, 0.5263157894736842)\n",
      "0\n",
      "f1margin: (0.41025641025641024, 0.5, 0.4507042253521127)\n",
      "1\n",
      "f1margin: (0.5714285714285714, 0.5, 0.5333333333333333)\n",
      "2\n",
      "f1margin: (0.3488372093023256, 0.8823529411764706, 0.5)\n",
      "3\n",
      "f1margin: (0.7333333333333333, 0.44, 0.5499999999999999)\n",
      "4\n",
      "f1margin: (0.52, 0.6190476190476191, 0.5652173913043478)\n",
      "5\n",
      "f1margin: (0.875, 0.25925925925925924, 0.39999999999999997)\n",
      "6\n",
      "f1margin: (0.8888888888888888, 0.3076923076923077, 0.4571428571428572)\n",
      "7\n",
      "f1margin: (0.5454545454545454, 0.23076923076923078, 0.3243243243243243)\n",
      "8\n",
      "f1margin: (0.8461538461538461, 0.24444444444444444, 0.37931034482758624)\n",
      "9\n",
      "f1margin: (0.48, 0.5454545454545454, 0.5106382978723404)\n",
      "10\n",
      "f1margin: (0.5, 0.09523809523809523, 0.16)\n",
      "11\n",
      "f1margin: (0.6923076923076923, 0.6923076923076923, 0.6923076923076923)\n",
      "12\n",
      "f1margin: (0.23333333333333334, 0.7777777777777778, 0.35897435897435903)\n",
      "13\n",
      "f1margin: (0.5294117647058824, 0.6923076923076923, 0.5999999999999999)\n",
      "14\n",
      "f1margin: (1.0, 0.5294117647058824, 0.6923076923076924)\n",
      "15\n",
      "f1margin: (0.75, 0.35294117647058826, 0.48)\n",
      "16\n",
      "f1margin: (0.7727272727272727, 0.4857142857142857, 0.5964912280701754)\n",
      "17\n",
      "f1margin: (0.6521739130434783, 0.4, 0.4958677685950412)\n",
      "18\n",
      "f1margin: (0.9545454545454546, 0.26582278481012656, 0.41584158415841577)\n",
      "19\n",
      "f1margin: (0.6097560975609756, 0.6578947368421053, 0.6329113924050632)\n",
      "0\n",
      "f1margin: (0.5, 0.4375, 0.4666666666666667)\n",
      "1\n",
      "f1margin: (0.4166666666666667, 0.3125, 0.35714285714285715)\n",
      "2\n",
      "f1margin: (0.41025641025641024, 0.9411764705882353, 0.5714285714285713)\n",
      "3\n",
      "f1margin: (0.8333333333333334, 0.4, 0.5405405405405406)\n",
      "4\n",
      "f1margin: (0.6842105263157895, 0.6190476190476191, 0.6500000000000001)\n",
      "5\n",
      "f1margin: (0.875, 0.25925925925925924, 0.39999999999999997)\n",
      "6\n",
      "f1margin: (1.0, 0.3076923076923077, 0.47058823529411764)\n",
      "7\n",
      "f1margin: (0.8333333333333334, 0.19230769230769232, 0.3125)\n",
      "8\n",
      "f1margin: (0.8666666666666667, 0.28888888888888886, 0.43333333333333335)\n",
      "9\n",
      "f1margin: (0.5384615384615384, 0.3181818181818182, 0.39999999999999997)\n",
      "10\n"
     ]
    },
    {
     "name": "stderr",
     "output_type": "stream",
     "text": [
      "C:\\Users\\loluc\\AppData\\Local\\Packages\\PythonSoftwareFoundation.Python.3.10_qbz5n2kfra8p0\\LocalCache\\local-packages\\Python310\\site-packages\\claspy\\segmentation.py:212: UserWarning: Time series must at least have 2*min_seg_size data points for segmentation. Try setting a smaller window size.\n",
      "  warnings.warn(\n"
     ]
    },
    {
     "name": "stdout",
     "output_type": "stream",
     "text": [
      "f1margin: (1.0, 0.19047619047619047, 0.32)\n",
      "11\n",
      "f1margin: (0.5, 0.23076923076923078, 0.3157894736842105)\n",
      "12\n",
      "f1margin: (0.14285714285714285, 0.2222222222222222, 0.17391304347826086)\n",
      "13\n",
      "f1margin: (0.4666666666666667, 0.358974358974359, 0.40579710144927544)\n",
      "14\n"
     ]
    },
    {
     "name": "stderr",
     "output_type": "stream",
     "text": [
      "C:\\Users\\loluc\\AppData\\Local\\Packages\\PythonSoftwareFoundation.Python.3.10_qbz5n2kfra8p0\\LocalCache\\local-packages\\Python310\\site-packages\\claspy\\segmentation.py:212: UserWarning: Time series must at least have 2*min_seg_size data points for segmentation. Try setting a smaller window size.\n",
      "  warnings.warn(\n"
     ]
    },
    {
     "name": "stdout",
     "output_type": "stream",
     "text": [
      "f1margin: (1.0, 0.17647058823529413, 0.3)\n",
      "15\n",
      "f1margin: (0.7, 0.4117647058823529, 0.5185185185185185)\n",
      "16\n",
      "f1margin: (0.8333333333333334, 0.14285714285714285, 0.2439024390243902)\n",
      "17\n",
      "f1margin: (0.5882352941176471, 0.13333333333333333, 0.21739130434782608)\n",
      "18\n",
      "f1margin: (0.9444444444444444, 0.21518987341772153, 0.35051546391752575)\n",
      "19\n",
      "f1margin: (0.6666666666666666, 0.21052631578947367, 0.32)\n",
      "0\n",
      "f1margin: (0.3170731707317073, 0.40625, 0.3561643835616438)\n",
      "1\n",
      "f1margin: (0.5714285714285714, 0.5, 0.5333333333333333)\n",
      "2\n",
      "f1margin: (0.3333333333333333, 0.9411764705882353, 0.49230769230769234)\n",
      "3\n",
      "f1margin: (0.8, 0.48, 0.6)\n",
      "4\n",
      "f1margin: (0.5333333333333333, 0.38095238095238093, 0.4444444444444444)\n",
      "5\n",
      "f1margin: (0.9166666666666666, 0.4074074074074074, 0.5641025641025641)\n",
      "6\n"
     ]
    },
    {
     "name": "stderr",
     "output_type": "stream",
     "text": [
      "C:\\Users\\loluc\\AppData\\Local\\Packages\\PythonSoftwareFoundation.Python.3.10_qbz5n2kfra8p0\\LocalCache\\local-packages\\Python310\\site-packages\\claspy\\segmentation.py:212: UserWarning: Time series must at least have 2*min_seg_size data points for segmentation. Try setting a smaller window size.\n",
      "  warnings.warn(\n"
     ]
    },
    {
     "name": "stdout",
     "output_type": "stream",
     "text": [
      "f1margin: (0.7777777777777778, 0.2692307692307692, 0.39999999999999997)\n",
      "7\n",
      "f1margin: (0.75, 0.23076923076923078, 0.3529411764705882)\n",
      "8\n",
      "f1margin: (0.7333333333333333, 0.24444444444444444, 0.36666666666666664)\n",
      "9\n",
      "f1margin: (0.4230769230769231, 0.5, 0.4583333333333333)\n",
      "10\n",
      "f1margin: (1.0, 0.19047619047619047, 0.32)\n",
      "11\n"
     ]
    },
    {
     "name": "stderr",
     "output_type": "stream",
     "text": [
      "C:\\Users\\loluc\\AppData\\Local\\Packages\\PythonSoftwareFoundation.Python.3.10_qbz5n2kfra8p0\\LocalCache\\local-packages\\Python310\\site-packages\\claspy\\segmentation.py:212: UserWarning: Time series must at least have 2*min_seg_size data points for segmentation. Try setting a smaller window size.\n",
      "  warnings.warn(\n"
     ]
    },
    {
     "name": "stdout",
     "output_type": "stream",
     "text": [
      "f1margin: (0.5454545454545454, 0.46153846153846156, 0.4999999999999999)\n",
      "12\n"
     ]
    },
    {
     "name": "stderr",
     "output_type": "stream",
     "text": [
      "C:\\Users\\loluc\\AppData\\Local\\Packages\\PythonSoftwareFoundation.Python.3.10_qbz5n2kfra8p0\\LocalCache\\local-packages\\Python310\\site-packages\\claspy\\window_size.py:213: UserWarning: Could not find any autocorrelation peaks. Using window_size=10.\n",
      "  warnings.warn(f\"Could not find any autocorrelation peaks. Using window_size={lbound}.\")\n",
      "C:\\Users\\loluc\\AppData\\Local\\Packages\\PythonSoftwareFoundation.Python.3.10_qbz5n2kfra8p0\\LocalCache\\local-packages\\Python310\\site-packages\\scipy\\stats\\_stats_py.py:9205: RuntimeWarning: invalid value encountered in scalar divide\n",
      "  z = (s - expected) / np.sqrt(n1*n2*(n1+n2+1)/12.0)\n"
     ]
    },
    {
     "name": "stdout",
     "output_type": "stream",
     "text": [
      "f1margin: (0.09375, 0.3333333333333333, 0.14634146341463417)\n",
      "13\n",
      "f1margin: (0.45, 0.6923076923076923, 0.5454545454545455)\n",
      "14\n"
     ]
    },
    {
     "name": "stderr",
     "output_type": "stream",
     "text": [
      "C:\\Users\\loluc\\AppData\\Local\\Packages\\PythonSoftwareFoundation.Python.3.10_qbz5n2kfra8p0\\LocalCache\\local-packages\\Python310\\site-packages\\claspy\\segmentation.py:212: UserWarning: Time series must at least have 2*min_seg_size data points for segmentation. Try setting a smaller window size.\n",
      "  warnings.warn(\n"
     ]
    },
    {
     "name": "stdout",
     "output_type": "stream",
     "text": [
      "f1margin: (1.0, 0.29411764705882354, 0.45454545454545453)\n",
      "15\n"
     ]
    },
    {
     "name": "stderr",
     "output_type": "stream",
     "text": [
      "C:\\Users\\loluc\\AppData\\Local\\Packages\\PythonSoftwareFoundation.Python.3.10_qbz5n2kfra8p0\\LocalCache\\local-packages\\Python310\\site-packages\\claspy\\segmentation.py:212: UserWarning: Time series must at least have 2*min_seg_size data points for segmentation. Try setting a smaller window size.\n",
      "  warnings.warn(\n"
     ]
    },
    {
     "name": "stdout",
     "output_type": "stream",
     "text": [
      "f1margin: (0.7, 0.4117647058823529, 0.5185185185185185)\n",
      "16\n",
      "f1margin: (0.7222222222222222, 0.37142857142857144, 0.490566037735849)\n",
      "17\n",
      "f1margin: (0.5625, 0.24, 0.33644859813084116)\n",
      "18\n",
      "f1margin: (0.8666666666666667, 0.16455696202531644, 0.2765957446808511)\n",
      "19\n",
      "f1margin: (0.5641025641025641, 0.5789473684210527, 0.5714285714285715)\n"
     ]
    }
   ],
   "source": [
    "cleaned_array = [s[3:-10] for s in timeseries]\n",
    "outdf = pd.DataFrame({\"name\":cleaned_array})\n",
    "\n",
    "\n",
    "\n",
    "outeval=[]\n",
    "for i in range(len(timeseries)):\n",
    "    print(i)\n",
    "    df=ReadAndPreProcess(timeseries[i])\n",
    "    gt=LoadingGroundTruth(df,groundtruth[i])\n",
    "    cp,eachcp,clasp=GetClasp(df,gt,0,distance=\"euclidean_distance\",excl_radius=4,window_size=5,score=\"roc_auc\")\n",
    "    #PlotResult(df,gt,cp, timeseries[i], 100)\n",
    "    cp=delnear(cp,100)\n",
    "    precision,recall,f1=Evaluate(\"CLASP\",groundtruth[i],gt,timeseries[i],cp,df,100,\"suss\",timeseries[i])\n",
    "    outeval.append(f1)\n",
    "outdf[\"5_rocauc\"] = outeval\n",
    "\n",
    "\n",
    "\n",
    "outeval=[]\n",
    "for i in range(len(timeseries)):\n",
    "    print(i)\n",
    "    df=ReadAndPreProcess(timeseries[i])\n",
    "    gt=LoadingGroundTruth(df,groundtruth[i])\n",
    "    cp,eachcp,clasp=GetClasp(df,gt,0,distance=\"euclidean_distance\",excl_radius=4,window_size=5,score=\"f1\")\n",
    "    #PlotResult(df,gt,cp, timeseries[i], 100)\n",
    "    cp=delnear(cp,100)\n",
    "    precision,recall,f1=Evaluate(\"CLASP\",groundtruth[i],gt,timeseries[i],cp,df,100,\"suss\",timeseries[i])\n",
    "    outeval.append(f1)\n",
    "outdf[\"5_f1\"] = outeval\n",
    "\n",
    "outeval=[]\n",
    "for i in range(len(timeseries)):\n",
    "    print(i)\n",
    "    df=ReadAndPreProcess(timeseries[i])\n",
    "    gt=LoadingGroundTruth(df,groundtruth[i])\n",
    "    cp,eachcp,clasp=GetClasp(df,gt,0,distance=\"euclidean_distance\",excl_radius=4,window_size=10,score=\"roc_auc\")\n",
    "    #PlotResult(df,gt,cp, timeseries[i], 100)\n",
    "    cp=delnear(cp,100)\n",
    "    precision,recall,f1=Evaluate(\"CLASP\",groundtruth[i],gt,timeseries[i],cp,df,100,\"suss\",timeseries[i])\n",
    "    outeval.append(f1)\n",
    "outdf[\"10_rocauc\"] = outeval\n",
    "\n",
    "outeval=[]\n",
    "for i in range(len(timeseries)):\n",
    "    print(i)\n",
    "    df=ReadAndPreProcess(timeseries[i])\n",
    "    gt=LoadingGroundTruth(df,groundtruth[i])\n",
    "    cp,eachcp,clasp=GetClasp(df,gt,0,distance=\"euclidean_distance\",excl_radius=4,window_size=10,score=\"f1\")\n",
    "    #PlotResult(df,gt,cp, timeseries[i], 100)\n",
    "    cp=delnear(cp,100)\n",
    "    precision,recall,f1=Evaluate(\"CLASP\",groundtruth[i],gt,timeseries[i],cp,df,100,\"suss\",timeseries[i])\n",
    "    outeval.append(f1)\n",
    "outdf[\"10_f1\"] = outeval\n",
    "\n",
    "outeval=[]\n",
    "for i in range(len(timeseries)):\n",
    "    print(i)\n",
    "    df=ReadAndPreProcess(timeseries[i])\n",
    "    gt=LoadingGroundTruth(df,groundtruth[i])\n",
    "    cp,eachcp,clasp=GetClasp(df,gt,0,distance=\"euclidean_distance\",excl_radius=4,window_size=25,score=\"roc_auc\")\n",
    "    #PlotResult(df,gt,cp, timeseries[i], 100)\n",
    "    cp=delnear(cp,100)\n",
    "    precision,recall,f1=Evaluate(\"CLASP\",groundtruth[i],gt,timeseries[i],cp,df,100,\"suss\",timeseries[i])\n",
    "    outeval.append(f1)\n",
    "outdf[\"25_rocauc\"] = outeval\n",
    "\n",
    "outeval=[]\n",
    "for i in range(len(timeseries)):\n",
    "    print(i)\n",
    "    df=ReadAndPreProcess(timeseries[i])\n",
    "    gt=LoadingGroundTruth(df,groundtruth[i])\n",
    "    cp,eachcp,clasp=GetClasp(df,gt,0,distance=\"euclidean_distance\",excl_radius=4,window_size=25,score=\"f1\")\n",
    "    #PlotResult(df,gt,cp, timeseries[i], 100)\n",
    "    cp=delnear(cp,100)\n",
    "    precision,recall,f1=Evaluate(\"CLASP\",groundtruth[i],gt,timeseries[i],cp,df,100,\"suss\",timeseries[i])\n",
    "    outeval.append(f1)\n",
    "outdf[\"25_f1\"] = outeval\n",
    "\n",
    "outeval=[]\n",
    "for i in range(len(timeseries)):\n",
    "    print(i)\n",
    "    df=ReadAndPreProcess(timeseries[i])\n",
    "    gt=LoadingGroundTruth(df,groundtruth[i])\n",
    "    cp,eachcp,clasp=GetClasp(df,gt,0,distance=\"euclidean_distance\",excl_radius=4,window_size=50,score=\"roc_auc\")\n",
    "    #PlotResult(df,gt,cp, timeseries[i], 100)\n",
    "    cp=delnear(cp,100)\n",
    "    precision,recall,f1=Evaluate(\"CLASP\",groundtruth[i],gt,timeseries[i],cp,df,100,\"suss\",timeseries[i])\n",
    "    outeval.append(f1)\n",
    "outdf[\"50_rocauc\"] = outeval\n",
    "\n",
    "outeval=[]\n",
    "for i in range(len(timeseries)):\n",
    "    print(i)\n",
    "    df=ReadAndPreProcess(timeseries[i])\n",
    "    gt=LoadingGroundTruth(df,groundtruth[i])\n",
    "    cp,eachcp,clasp=GetClasp(df,gt,0,distance=\"euclidean_distance\",excl_radius=4,window_size=50,score=\"f1\")\n",
    "    #PlotResult(df,gt,cp, timeseries[i], 100)\n",
    "    cp=delnear(cp,100)\n",
    "    precision,recall,f1=Evaluate(\"CLASP\",groundtruth[i],gt,timeseries[i],cp,df,100,\"suss\",timeseries[i])\n",
    "    outeval.append(f1)\n",
    "outdf[\"50_f1\"] = outeval\n",
    "\n",
    "outeval=[]\n",
    "for i in range(len(timeseries)):\n",
    "    print(i)\n",
    "    df=ReadAndPreProcess(timeseries[i])\n",
    "    gt=LoadingGroundTruth(df,groundtruth[i])\n",
    "    cp,eachcp,clasp=GetClasp(df,gt,0,distance=\"euclidean_distance\",excl_radius=4,window_size=75,score=\"roc_auc\")\n",
    "    #PlotResult(df,gt,cp, timeseries[i], 100)\n",
    "    cp=delnear(cp,100)\n",
    "    precision,recall,f1=Evaluate(\"CLASP\",groundtruth[i],gt,timeseries[i],cp,df,100,\"suss\",timeseries[i])\n",
    "    outeval.append(f1)\n",
    "outdf[\"75_rocauc\"] = outeval\n",
    "\n",
    "outeval=[]\n",
    "for i in range(len(timeseries)):\n",
    "    print(i)\n",
    "    df=ReadAndPreProcess(timeseries[i])\n",
    "    gt=LoadingGroundTruth(df,groundtruth[i])\n",
    "    cp,eachcp,clasp=GetClasp(df,gt,0,distance=\"euclidean_distance\",excl_radius=4,window_size=75,score=\"f1\")\n",
    "    #PlotResult(df,gt,cp, timeseries[i], 100)\n",
    "    cp=delnear(cp,100)\n",
    "    precision,recall,f1=Evaluate(\"CLASP\",groundtruth[i],gt,timeseries[i],cp,df,100,\"suss\",timeseries[i])\n",
    "    outeval.append(f1)\n",
    "outdf[\"75_f1\"] = outeval\n",
    "\n",
    "outeval=[]\n",
    "for i in range(len(timeseries)):\n",
    "    print(i)\n",
    "    df=ReadAndPreProcess(timeseries[i])\n",
    "    gt=LoadingGroundTruth(df,groundtruth[i])\n",
    "    cp,eachcp,clasp=GetClasp(df,gt,0,distance=\"euclidean_distance\",excl_radius=4,window_size=100,score=\"roc_auc\")\n",
    "    #PlotResult(df,gt,cp, timeseries[i], 100)\n",
    "    cp=delnear(cp,100)\n",
    "    precision,recall,f1=Evaluate(\"CLASP\",groundtruth[i],gt,timeseries[i],cp,df,100,\"suss\",timeseries[i])\n",
    "    outeval.append(f1)\n",
    "outdf[\"100_rocauc\"] = outeval\n",
    "\n",
    "outeval=[]\n",
    "for i in range(len(timeseries)):\n",
    "    print(i)\n",
    "    df=ReadAndPreProcess(timeseries[i])\n",
    "    gt=LoadingGroundTruth(df,groundtruth[i])\n",
    "    cp,eachcp,clasp=GetClasp(df,gt,0,distance=\"euclidean_distance\",excl_radius=4,window_size=100,score=\"f1\")\n",
    "    #PlotResult(df,gt,cp, timeseries[i], 100)\n",
    "    cp=delnear(cp,100)\n",
    "    precision,recall,f1=Evaluate(\"CLASP\",groundtruth[i],gt,timeseries[i],cp,df,100,\"suss\",timeseries[i])\n",
    "    outeval.append(f1)\n",
    "outdf[\"100_f1\"] = outeval\n",
    "\n",
    "outeval=[]\n",
    "for i in range(len(timeseries)):\n",
    "    print(i)\n",
    "    df=ReadAndPreProcess(timeseries[i])\n",
    "    gt=LoadingGroundTruth(df,groundtruth[i])\n",
    "    cp,eachcp,clasp=GetClasp(df,gt,0,distance=\"euclidean_distance\",excl_radius=4,window_size=150,score=\"roc_auc\")\n",
    "    #PlotResult(df,gt,cp, timeseries[i], 100)\n",
    "    cp=delnear(cp,100)\n",
    "    precision,recall,f1=Evaluate(\"CLASP\",groundtruth[i],gt,timeseries[i],cp,df,100,\"suss\",timeseries[i])\n",
    "    outeval.append(f1)\n",
    "outdf[\"150_rocauc\"] = outeval\n",
    "\n",
    "outeval=[]\n",
    "for i in range(len(timeseries)):\n",
    "    print(i)\n",
    "    df=ReadAndPreProcess(timeseries[i])\n",
    "    gt=LoadingGroundTruth(df,groundtruth[i])\n",
    "    cp,eachcp,clasp=GetClasp(df,gt,0,distance=\"euclidean_distance\",excl_radius=4,window_size=150,score=\"f1\")\n",
    "    #PlotResult(df,gt,cp, timeseries[i], 100)\n",
    "    cp=delnear(cp,100)\n",
    "    precision,recall,f1=Evaluate(\"CLASP\",groundtruth[i],gt,timeseries[i],cp,df,100,\"suss\",timeseries[i])\n",
    "    outeval.append(f1)\n",
    "outdf[\"150_f1\"] = outeval\n",
    "\n",
    "outeval=[]\n",
    "for i in range(len(timeseries)):\n",
    "    print(i)\n",
    "    df=ReadAndPreProcess(timeseries[i])\n",
    "    gt=LoadingGroundTruth(df,groundtruth[i])\n",
    "    cp,eachcp,clasp=GetClasp(df,gt,0,distance=\"euclidean_distance\",excl_radius=4,window_size=200,score=\"roc_auc\")\n",
    "    #PlotResult(df,gt,cp, timeseries[i], 100)\n",
    "    cp=delnear(cp,100)\n",
    "    precision,recall,f1=Evaluate(\"CLASP\",groundtruth[i],gt,timeseries[i],cp,df,100,\"suss\",timeseries[i])\n",
    "    outeval.append(f1)\n",
    "outdf[\"200_rocauc\"] = outeval\n",
    "\n",
    "outeval=[]\n",
    "for i in range(len(timeseries)):\n",
    "    print(i)\n",
    "    df=ReadAndPreProcess(timeseries[i])\n",
    "    gt=LoadingGroundTruth(df,groundtruth[i])\n",
    "    cp,eachcp,clasp=GetClasp(df,gt,0,distance=\"euclidean_distance\",excl_radius=4,window_size=200,score=\"f1\")\n",
    "    #PlotResult(df,gt,cp, timeseries[i], 100)\n",
    "    cp=delnear(cp,100)\n",
    "    precision,recall,f1=Evaluate(\"CLASP\",groundtruth[i],gt,timeseries[i],cp,df,100,\"suss\",timeseries[i])\n",
    "    outeval.append(f1)\n",
    "outdf[\"200_f1\"] = outeval\n",
    "\n",
    "outeval=[]\n",
    "for i in range(len(timeseries)):\n",
    "    print(i)\n",
    "    df=ReadAndPreProcess(timeseries[i])\n",
    "    gt=LoadingGroundTruth(df,groundtruth[i])\n",
    "    cp,eachcp,clasp=GetClasp(df,gt,0,distance=\"euclidean_distance\",excl_radius=4,window_size=300,score=\"roc_auc\")\n",
    "    #PlotResult(df,gt,cp, timeseries[i], 100)\n",
    "    cp=delnear(cp,100)\n",
    "    precision,recall,f1=Evaluate(\"CLASP\",groundtruth[i],gt,timeseries[i],cp,df,100,\"suss\",timeseries[i])\n",
    "    outeval.append(f1)\n",
    "outdf[\"300_rocauc\"] = outeval\n",
    "\n",
    "outeval=[]\n",
    "for i in range(len(timeseries)):\n",
    "    print(i)\n",
    "    df=ReadAndPreProcess(timeseries[i])\n",
    "    gt=LoadingGroundTruth(df,groundtruth[i])\n",
    "    cp,eachcp,clasp=GetClasp(df,gt,0,distance=\"euclidean_distance\",excl_radius=4,window_size=300,score=\"f1\")\n",
    "    #PlotResult(df,gt,cp, timeseries[i], 100)\n",
    "    cp=delnear(cp,100)\n",
    "    precision,recall,f1=Evaluate(\"CLASP\",groundtruth[i],gt,timeseries[i],cp,df,100,\"suss\",timeseries[i])\n",
    "    outeval.append(f1)\n",
    "outdf[\"300_f1\"] = outeval\n",
    "\n",
    "outeval=[]\n",
    "for i in range(len(timeseries)):\n",
    "    print(i)\n",
    "    df=ReadAndPreProcess(timeseries[i])\n",
    "    gt=LoadingGroundTruth(df,groundtruth[i])\n",
    "    cp,eachcp,clasp=GetClasp(df,gt,0,distance=\"euclidean_distance\",excl_radius=4,window_size=500,score=\"roc_auc\")\n",
    "    #PlotResult(df,gt,cp, timeseries[i], 100)\n",
    "    cp=delnear(cp,100)\n",
    "    precision,recall,f1=Evaluate(\"CLASP\",groundtruth[i],gt,timeseries[i],cp,df,100,\"suss\",timeseries[i])\n",
    "    outeval.append(f1)\n",
    "outdf[\"500_rocauc\"] = outeval\n",
    "\n",
    "outeval=[]\n",
    "for i in range(len(timeseries)):\n",
    "    print(i)\n",
    "    df=ReadAndPreProcess(timeseries[i])\n",
    "    gt=LoadingGroundTruth(df,groundtruth[i])\n",
    "    cp,eachcp,clasp=GetClasp(df,gt,0,distance=\"euclidean_distance\",excl_radius=4,window_size=500,score=\"f1\")\n",
    "    #PlotResult(df,gt,cp, timeseries[i], 100)\n",
    "    cp=delnear(cp,100)\n",
    "    precision,recall,f1=Evaluate(\"CLASP\",groundtruth[i],gt,timeseries[i],cp,df,100,\"suss\",timeseries[i])\n",
    "    outeval.append(f1)\n",
    "outdf[\"500_f1\"] = outeval\n",
    "\n",
    "outdf.to_excel(\"outputFile/outputWINDOWCHECK.xlsx\")"
   ]
  }
 ],
 "metadata": {
  "kernelspec": {
   "display_name": "Python 3",
   "language": "python",
   "name": "python3"
  },
  "language_info": {
   "codemirror_mode": {
    "name": "ipython",
    "version": 3
   },
   "file_extension": ".py",
   "mimetype": "text/x-python",
   "name": "python",
   "nbconvert_exporter": "python",
   "pygments_lexer": "ipython3",
   "version": "3.10.11"
  }
 },
 "nbformat": 4,
 "nbformat_minor": 2
}
