{
 "cells": [
  {
   "cell_type": "code",
   "execution_count": null,
   "metadata": {},
   "outputs": [],
   "source": [
    "\n",
    "#98 per un solo video\n",
    "\n",
    "# 1. model setting - in: 98 timeseries - out: 98 prediction\n",
    "# 2. splittare in 6 salienze - in: 98 prediction - out: 98 into 6 list[salienza][feature][elemento singolo] (could be repetition)\n",
    "# 3xyz. majvote(threshold,margin) - in: 6 list[][][] - out: 6 list[salienza][elemento singolo]\n",
    "# 3tog. majvote(threshold,margin) - in: 6 list[][][] - out: 6 list[salienza][elemento singolo]\n",
    "# 4. unione - in: 6 list[][] - out: list[]\n",
    "# 4.1 ignorezone(margin)\n",
    "# 5. delnear(margin)\n",
    "# 6. dtw(threshold)\n",
    "# Filtro(pred, maj_margin, maj_thre, zone_margin, del_margin, dtw_threshold) -> final_pred\n",
    "\n",
    "\n"
   ]
  },
  {
   "cell_type": "code",
   "execution_count": null,
   "metadata": {},
   "outputs": [],
   "source": [
    "#leave one video out\n",
    "\n"
   ]
  }
 ],
 "metadata": {
  "kernelspec": {
   "display_name": "Python 3",
   "language": "python",
   "name": "python3"
  },
  "language_info": {
   "name": "python",
   "version": "3.10.11"
  }
 },
 "nbformat": 4,
 "nbformat_minor": 2
}
