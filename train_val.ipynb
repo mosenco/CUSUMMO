{
 "cells": [
  {
   "cell_type": "code",
   "execution_count": 8,
   "metadata": {},
   "outputs": [],
   "source": [
    "from core import *"
   ]
  },
  {
   "cell_type": "code",
   "execution_count": 9,
   "metadata": {},
   "outputs": [
    {
     "name": "stdout",
     "output_type": "stream",
     "text": [
      "idx:0 {'distance': 'euclidean_distance', 'early_stopping': True, 'k_neighbours': 1, 'n_jobs': 4, 'score': 'roc_auc', 'window_size': 'suss'}\n",
      "idx:1 {'distance': 'euclidean_distance', 'early_stopping': True, 'k_neighbours': 1, 'n_jobs': 4, 'score': 'f1', 'window_size': 'suss'}\n",
      "idx:2 {'distance': 'euclidean_distance', 'early_stopping': True, 'k_neighbours': 3, 'n_jobs': 4, 'score': 'roc_auc', 'window_size': 'suss'}\n",
      "idx:3 {'distance': 'euclidean_distance', 'early_stopping': True, 'k_neighbours': 3, 'n_jobs': 4, 'score': 'f1', 'window_size': 'suss'}\n",
      "idx:4 {'distance': 'euclidean_distance', 'early_stopping': True, 'k_neighbours': 5, 'n_jobs': 4, 'score': 'roc_auc', 'window_size': 'suss'}\n",
      "idx:5 {'distance': 'euclidean_distance', 'early_stopping': True, 'k_neighbours': 5, 'n_jobs': 4, 'score': 'f1', 'window_size': 'suss'}\n",
      "idx:6 {'distance': 'euclidean_distance', 'early_stopping': True, 'k_neighbours': 7, 'n_jobs': 4, 'score': 'roc_auc', 'window_size': 'suss'}\n",
      "idx:7 {'distance': 'euclidean_distance', 'early_stopping': True, 'k_neighbours': 7, 'n_jobs': 4, 'score': 'f1', 'window_size': 'suss'}\n",
      "idx:8 {'distance': 'euclidean_distance', 'early_stopping': True, 'k_neighbours': 9, 'n_jobs': 4, 'score': 'roc_auc', 'window_size': 'suss'}\n",
      "idx:9 {'distance': 'euclidean_distance', 'early_stopping': True, 'k_neighbours': 9, 'n_jobs': 4, 'score': 'f1', 'window_size': 'suss'}\n",
      "idx:10 {'distance': 'euclidean_distance', 'early_stopping': False, 'k_neighbours': 1, 'n_jobs': 4, 'score': 'roc_auc', 'window_size': 'suss'}\n",
      "idx:11 {'distance': 'euclidean_distance', 'early_stopping': False, 'k_neighbours': 1, 'n_jobs': 4, 'score': 'f1', 'window_size': 'suss'}\n",
      "idx:12 {'distance': 'euclidean_distance', 'early_stopping': False, 'k_neighbours': 3, 'n_jobs': 4, 'score': 'roc_auc', 'window_size': 'suss'}\n",
      "idx:13 {'distance': 'euclidean_distance', 'early_stopping': False, 'k_neighbours': 3, 'n_jobs': 4, 'score': 'f1', 'window_size': 'suss'}\n",
      "idx:14 {'distance': 'euclidean_distance', 'early_stopping': False, 'k_neighbours': 5, 'n_jobs': 4, 'score': 'roc_auc', 'window_size': 'suss'}\n",
      "idx:15 {'distance': 'euclidean_distance', 'early_stopping': False, 'k_neighbours': 5, 'n_jobs': 4, 'score': 'f1', 'window_size': 'suss'}\n",
      "idx:16 {'distance': 'euclidean_distance', 'early_stopping': False, 'k_neighbours': 7, 'n_jobs': 4, 'score': 'roc_auc', 'window_size': 'suss'}\n",
      "idx:17 {'distance': 'euclidean_distance', 'early_stopping': False, 'k_neighbours': 7, 'n_jobs': 4, 'score': 'f1', 'window_size': 'suss'}\n",
      "idx:18 {'distance': 'euclidean_distance', 'early_stopping': False, 'k_neighbours': 9, 'n_jobs': 4, 'score': 'roc_auc', 'window_size': 'suss'}\n",
      "idx:19 {'distance': 'euclidean_distance', 'early_stopping': False, 'k_neighbours': 9, 'n_jobs': 4, 'score': 'f1', 'window_size': 'suss'}\n"
     ]
    }
   ],
   "source": [
    "param_grid = {\n",
    "    \"window_size\": ['suss'],\n",
    "    \"distance\": ['euclidean_distance'],\n",
    "    \"score\":['roc_auc','f1'],\n",
    "    \"early_stopping\": [True,False],\n",
    "    \"k_neighbours\":[1,3,5,7,9],\n",
    "    \"n_jobs\":[4]\n",
    "}\n",
    "for p_idx,params in enumerate(ParameterGrid(param_grid)):\n",
    "    print(f'idx:{p_idx} {params}')"
   ]
  },
  {
   "cell_type": "code",
   "execution_count": 10,
   "metadata": {},
   "outputs": [],
   "source": [
    "with open(\"../dfl.pkl\", \"rb\") as f:\n",
    "    dfl = pickle.load(f)\n",
    "\n",
    "with open(\"../gtl.pkl\", \"rb\") as f:\n",
    "    gtl = pickle.load(f)"
   ]
  },
  {
   "cell_type": "code",
   "execution_count": 11,
   "metadata": {},
   "outputs": [],
   "source": [
    "#1. model setting: already computed with given upper hyperparameters\n",
    "modelpred=[]\n",
    "for i in range(0,20):\n",
    "    with open(\"../cpsl_param_\"+str(i)+\".pkl\", \"rb\") as f:\n",
    "        modelpred.append(pickle.load(f))\n",
    "\n",
    "#20 model\n",
    "#21 video\n",
    "#98 feature"
   ]
  },
  {
   "cell_type": "code",
   "execution_count": 12,
   "metadata": {},
   "outputs": [],
   "source": [
    "#2. splitting\n",
    "def SplitSaliency(pred):\n",
    "    # 2. split features in 6 saliency groups\n",
    "    # vel,acc,jerk,specific,generic\n",
    "    # specific: other type of feature specific for that saliency\n",
    "    # generic: other type of feature that describe the whole body movement\n",
    "    ## generic features: 0,3\n",
    "    ariel_el=[26,27,28,29,30,31,32,33,34,35,36,37,2,8,14,0,3]\n",
    "    ariel = UnionCPS(*pred[ariel_el])\n",
    "   \n",
    "    strn_el=[38,39,40,41,42,43,44,45,46,47,48,49,1,9,0,3]\n",
    "    strn = UnionCPS(*pred[strn_el])\n",
    "\n",
    "    rhel_el=[50,51,52,53,54,55,56,57,58,59,60,61,7,11,16,17,18,21,0,3]\n",
    "    rhel = UnionCPS(*pred[rhel_el])\n",
    "\n",
    "    lhel_el=[62,63,64,65,66,67,68,69,70,71,72,73,6,10,16,17,19,20,0,3]\n",
    "    lhel = UnionCPS(*pred[lhel_el])\n",
    "    \n",
    "    rplm_el=[74,75,76,77,78,79,80,81,82,83,84,85,5,13,15,23,25,0,3]\n",
    "    rplm = UnionCPS(*pred[rplm_el])\n",
    "\n",
    "    lplm_el=[86,87,88,89,90,91,92,93,94,95,96,97,4,12,15,22,24,0,3]\n",
    "    lplm = UnionCPS(*pred[lplm_el])\n",
    "\n",
    "    return [ariel,strn,rhel,lhel,rplm,lplm]"
   ]
  },
  {
   "cell_type": "code",
   "execution_count": 13,
   "metadata": {},
   "outputs": [],
   "source": [
    "# 3.\n",
    "def CombineSingleSaliency(saliencies, maj_margin, maj_thre):\n",
    "    res=[]\n",
    "    for sal in saliencies:\n",
    "        res.append(MajorityVoteCP(sal, maj_margin, maj_thre))\n",
    "    return res\n",
    "        \n"
   ]
  },
  {
   "cell_type": "code",
   "execution_count": 14,
   "metadata": {},
   "outputs": [],
   "source": [
    "\n",
    "#98 per un solo video\n",
    "\n",
    "# 1. model setting - in: 98 timeseries - out: 98 prediction\n",
    "# 2. splittare in 6 salienze - in: 98 prediction - out: 98 into 6 list[salienza][feature][elemento singolo] (could be repetition)\n",
    "# 3xyz. majvote(threshold,margin) - in: 6 list[][][] - out: 6 list[salienza][elemento singolo]\n",
    "# 3tog. majvote(threshold,margin) - in: 6 list[][][] - out: 6 list[salienza][elemento singolo]\n",
    "# 4. unione - in: 6 list[][] - out: list[]\n",
    "# 5. ignorezone(margin)\n",
    "# 6. delnear(margin)\n",
    "# 7. dtw(threshold)\n",
    "def PostFilterTogether(model_id,video_id,param_id,param_len,density,pred,gt, maj_margin, maj_thre, zone_margin, del_margin, dtw_threshold):\n",
    "    \"\"\"\n",
    "        pred: 98 predictions of a single video\n",
    "    \"\"\"\n",
    "    \n",
    "    print(f\"model:{model_id}/20 - video:{video_id}/21 - param:{param_id}/{param_len} - Start                                               \", end='\\r')\n",
    "\n",
    "    #2.\n",
    "    saliencies_raw = SplitSaliency(pred)\n",
    "    print(f\"model:{model_id}/20 - video:{video_id}/21 - param:{param_id}/{param_len} - Split Saliency completed                            \", end='\\r')\n",
    "    #3.\n",
    "    saliencies = CombineSingleSaliency(saliencies_raw,maj_margin,maj_thre)\n",
    "    print(f\"model:{model_id}/20 - video:{video_id}/21 - param:{param_id}/{param_len} - Combine Saliency completed                          \", end='\\r')\n",
    "    #4.\n",
    "    pred_united = UnionCP(saliencies)\n",
    "    print(f\"model:{model_id}/20 - video:{video_id}/21 - param:{param_id}/{param_len} - Union completed                                     \", end='\\r')\n",
    "    #5.\n",
    "    pred_ignored = IgnoreZone(video_id,pred_united,gt,zone_margin)\n",
    "    print(f\"model:{model_id}/20 - video:{video_id}/21 - param:{param_id}/{param_len} - Ignore Zone completed                               \", end='\\r')\n",
    "    #6.\n",
    "    pred_del = delnear(pred_ignored,del_margin)\n",
    "    print(f\"model:{model_id}/20 - video:{video_id}/21 - param:{param_id}/{param_len} - delnear completed                                   \", end='\\r')\n",
    "    #7.\n",
    "    pred_final=FPremoverDTW(density,pred_del,dtw_threshold)\n",
    "    print(f\"model:{model_id}/20 - video:{video_id}/21 - param:{param_id}/{param_len} - DTW completed                                       \", end='\\r')\n",
    "    # pred_modelid_videoid_majmargin_majthree_zonemargin_delmargin_dtwthreshold\n",
    "    return pred_final\n",
    "    \n",
    "\n"
   ]
  },
  {
   "cell_type": "code",
   "execution_count": 15,
   "metadata": {},
   "outputs": [
    {
     "name": "stdout",
     "output_type": "stream",
     "text": [
      "model:0/20 - video:0/21 - param:0/243 - Start                                               \r"
     ]
    },
    {
     "ename": "TypeError",
     "evalue": "list indices must be integers or slices, not list",
     "output_type": "error",
     "traceback": [
      "\u001b[1;31m---------------------------------------------------------------------------\u001b[0m",
      "\u001b[1;31mTypeError\u001b[0m                                 Traceback (most recent call last)",
      "Cell \u001b[1;32mIn[15], line 22\u001b[0m\n\u001b[0;32m     20\u001b[0m df \u001b[38;5;241m=\u001b[39m dfl[i]\n\u001b[0;32m     21\u001b[0m gt \u001b[38;5;241m=\u001b[39m gtl[i]\n\u001b[1;32m---> 22\u001b[0m res\u001b[38;5;241m=\u001b[39m\u001b[43mPostFilterTogether\u001b[49m\u001b[43m(\u001b[49m\u001b[43mmodel_id\u001b[49m\u001b[43m,\u001b[49m\u001b[43mi\u001b[49m\u001b[43m,\u001b[49m\u001b[43mp_idx\u001b[49m\u001b[43m,\u001b[49m\u001b[38;5;28;43mlen\u001b[39;49m\u001b[43m(\u001b[49m\u001b[43mParameterGrid\u001b[49m\u001b[43m(\u001b[49m\u001b[43mparam_grid\u001b[49m\u001b[43m)\u001b[49m\u001b[43m)\u001b[49m\u001b[43m,\u001b[49m\u001b[43mdf\u001b[49m\u001b[38;5;241;43m.\u001b[39;49m\u001b[43miloc\u001b[49m\u001b[43m[\u001b[49m\u001b[43m:\u001b[49m\u001b[43m,\u001b[49m\u001b[38;5;241;43m3\u001b[39;49m\u001b[43m]\u001b[49m\u001b[43m,\u001b[49m\u001b[43mmodel\u001b[49m\u001b[43m[\u001b[49m\u001b[43mi\u001b[49m\u001b[43m]\u001b[49m\u001b[43m,\u001b[49m\u001b[43mgt\u001b[49m\u001b[43m,\u001b[49m\u001b[43mparams\u001b[49m\u001b[43m[\u001b[49m\u001b[38;5;124;43m\"\u001b[39;49m\u001b[38;5;124;43mmaj_margin\u001b[39;49m\u001b[38;5;124;43m\"\u001b[39;49m\u001b[43m]\u001b[49m\u001b[43m,\u001b[49m\u001b[43mparams\u001b[49m\u001b[43m[\u001b[49m\u001b[38;5;124;43m\"\u001b[39;49m\u001b[38;5;124;43mmaj_thre\u001b[39;49m\u001b[38;5;124;43m\"\u001b[39;49m\u001b[43m]\u001b[49m\u001b[43m,\u001b[49m\u001b[43mparams\u001b[49m\u001b[43m[\u001b[49m\u001b[38;5;124;43m\"\u001b[39;49m\u001b[38;5;124;43mzone_margin\u001b[39;49m\u001b[38;5;124;43m\"\u001b[39;49m\u001b[43m]\u001b[49m\u001b[43m,\u001b[49m\u001b[43mparams\u001b[49m\u001b[43m[\u001b[49m\u001b[38;5;124;43m\"\u001b[39;49m\u001b[38;5;124;43mdel_margin\u001b[39;49m\u001b[38;5;124;43m\"\u001b[39;49m\u001b[43m]\u001b[49m\u001b[43m,\u001b[49m\u001b[43mparams\u001b[49m\u001b[43m[\u001b[49m\u001b[38;5;124;43m\"\u001b[39;49m\u001b[38;5;124;43mdtw_threshold\u001b[39;49m\u001b[38;5;124;43m\"\u001b[39;49m\u001b[43m]\u001b[49m\u001b[43m)\u001b[49m\n\u001b[0;32m     23\u001b[0m video\u001b[38;5;241m.\u001b[39mappend(res)\n\u001b[0;32m     24\u001b[0m \u001b[38;5;250m\u001b[39m\u001b[38;5;124;03m\"\"\"\u001b[39;00m\n\u001b[0;32m     25\u001b[0m \u001b[38;5;124;03mi folds servono solo durante lo scoring\u001b[39;00m\n\u001b[0;32m     26\u001b[0m \u001b[38;5;124;03m# single fold\u001b[39;00m\n\u001b[1;32m   (...)\u001b[0m\n\u001b[0;32m     30\u001b[0m \u001b[38;5;124;03m    PostFilterTogether()\u001b[39;00m\n\u001b[0;32m     31\u001b[0m \u001b[38;5;124;03m\"\"\"\u001b[39;00m\n",
      "Cell \u001b[1;32mIn[14], line 19\u001b[0m, in \u001b[0;36mPostFilterTogether\u001b[1;34m(model_id, video_id, param_id, param_len, density, pred, gt, maj_margin, maj_thre, zone_margin, del_margin, dtw_threshold)\u001b[0m\n\u001b[0;32m     16\u001b[0m \u001b[38;5;28mprint\u001b[39m(\u001b[38;5;124mf\u001b[39m\u001b[38;5;124m\"\u001b[39m\u001b[38;5;124mmodel:\u001b[39m\u001b[38;5;132;01m{\u001b[39;00mmodel_id\u001b[38;5;132;01m}\u001b[39;00m\u001b[38;5;124m/20 - video:\u001b[39m\u001b[38;5;132;01m{\u001b[39;00mvideo_id\u001b[38;5;132;01m}\u001b[39;00m\u001b[38;5;124m/21 - param:\u001b[39m\u001b[38;5;132;01m{\u001b[39;00mparam_id\u001b[38;5;132;01m}\u001b[39;00m\u001b[38;5;124m/\u001b[39m\u001b[38;5;132;01m{\u001b[39;00mparam_len\u001b[38;5;132;01m}\u001b[39;00m\u001b[38;5;124m - Start                                               \u001b[39m\u001b[38;5;124m\"\u001b[39m, end\u001b[38;5;241m=\u001b[39m\u001b[38;5;124m'\u001b[39m\u001b[38;5;130;01m\\r\u001b[39;00m\u001b[38;5;124m'\u001b[39m)\n\u001b[0;32m     18\u001b[0m \u001b[38;5;66;03m#2.\u001b[39;00m\n\u001b[1;32m---> 19\u001b[0m saliencies_raw \u001b[38;5;241m=\u001b[39m \u001b[43mSplitSaliency\u001b[49m\u001b[43m(\u001b[49m\u001b[43mpred\u001b[49m\u001b[43m)\u001b[49m\n\u001b[0;32m     20\u001b[0m \u001b[38;5;28mprint\u001b[39m(\u001b[38;5;124mf\u001b[39m\u001b[38;5;124m\"\u001b[39m\u001b[38;5;124mmodel:\u001b[39m\u001b[38;5;132;01m{\u001b[39;00mmodel_id\u001b[38;5;132;01m}\u001b[39;00m\u001b[38;5;124m/20 - video:\u001b[39m\u001b[38;5;132;01m{\u001b[39;00mvideo_id\u001b[38;5;132;01m}\u001b[39;00m\u001b[38;5;124m/21 - param:\u001b[39m\u001b[38;5;132;01m{\u001b[39;00mparam_id\u001b[38;5;132;01m}\u001b[39;00m\u001b[38;5;124m/\u001b[39m\u001b[38;5;132;01m{\u001b[39;00mparam_len\u001b[38;5;132;01m}\u001b[39;00m\u001b[38;5;124m - Split Saliency completed                            \u001b[39m\u001b[38;5;124m\"\u001b[39m, end\u001b[38;5;241m=\u001b[39m\u001b[38;5;124m'\u001b[39m\u001b[38;5;130;01m\\r\u001b[39;00m\u001b[38;5;124m'\u001b[39m)\n\u001b[0;32m     21\u001b[0m \u001b[38;5;66;03m#3.\u001b[39;00m\n",
      "Cell \u001b[1;32mIn[12], line 9\u001b[0m, in \u001b[0;36mSplitSaliency\u001b[1;34m(pred)\u001b[0m\n\u001b[0;32m      2\u001b[0m \u001b[38;5;28;01mdef\u001b[39;00m \u001b[38;5;21mSplitSaliency\u001b[39m(pred):\n\u001b[0;32m      3\u001b[0m     \u001b[38;5;66;03m# 2. split features in 6 saliency groups\u001b[39;00m\n\u001b[0;32m      4\u001b[0m     \u001b[38;5;66;03m# vel,acc,jerk,specific,generic\u001b[39;00m\n\u001b[0;32m      5\u001b[0m     \u001b[38;5;66;03m# specific: other type of feature specific for that saliency\u001b[39;00m\n\u001b[0;32m      6\u001b[0m     \u001b[38;5;66;03m# generic: other type of feature that describe the whole body movement\u001b[39;00m\n\u001b[0;32m      7\u001b[0m     \u001b[38;5;66;03m## generic features: 0,3\u001b[39;00m\n\u001b[0;32m      8\u001b[0m     ariel_el\u001b[38;5;241m=\u001b[39m[\u001b[38;5;241m26\u001b[39m,\u001b[38;5;241m27\u001b[39m,\u001b[38;5;241m28\u001b[39m,\u001b[38;5;241m29\u001b[39m,\u001b[38;5;241m30\u001b[39m,\u001b[38;5;241m31\u001b[39m,\u001b[38;5;241m32\u001b[39m,\u001b[38;5;241m33\u001b[39m,\u001b[38;5;241m34\u001b[39m,\u001b[38;5;241m35\u001b[39m,\u001b[38;5;241m36\u001b[39m,\u001b[38;5;241m37\u001b[39m,\u001b[38;5;241m2\u001b[39m,\u001b[38;5;241m8\u001b[39m,\u001b[38;5;241m14\u001b[39m,\u001b[38;5;241m0\u001b[39m,\u001b[38;5;241m3\u001b[39m]\n\u001b[1;32m----> 9\u001b[0m     ariel \u001b[38;5;241m=\u001b[39m UnionCPS(\u001b[38;5;241m*\u001b[39m\u001b[43mpred\u001b[49m\u001b[43m[\u001b[49m\u001b[43mariel_el\u001b[49m\u001b[43m]\u001b[49m)\n\u001b[0;32m     11\u001b[0m     strn_el\u001b[38;5;241m=\u001b[39m[\u001b[38;5;241m38\u001b[39m,\u001b[38;5;241m39\u001b[39m,\u001b[38;5;241m40\u001b[39m,\u001b[38;5;241m41\u001b[39m,\u001b[38;5;241m42\u001b[39m,\u001b[38;5;241m43\u001b[39m,\u001b[38;5;241m44\u001b[39m,\u001b[38;5;241m45\u001b[39m,\u001b[38;5;241m46\u001b[39m,\u001b[38;5;241m47\u001b[39m,\u001b[38;5;241m48\u001b[39m,\u001b[38;5;241m49\u001b[39m,\u001b[38;5;241m1\u001b[39m,\u001b[38;5;241m9\u001b[39m,\u001b[38;5;241m0\u001b[39m,\u001b[38;5;241m3\u001b[39m]\n\u001b[0;32m     12\u001b[0m     strn \u001b[38;5;241m=\u001b[39m UnionCPS(\u001b[38;5;241m*\u001b[39mpred[strn_el])\n",
      "\u001b[1;31mTypeError\u001b[0m: list indices must be integers or slices, not list"
     ]
    }
   ],
   "source": [
    "#leave one video out\n",
    "\n",
    "param_grid = {\n",
    "    \"maj_margin\": [80,100,120],\n",
    "    \"maj_thre\": [1,2,3],\n",
    "    \"zone_margin\":[80,100,120],\n",
    "    \"del_margin\": [80,100,120],\n",
    "    \"dtw_threshold\":[80,100,120]\n",
    "}\n",
    "\n",
    "\n",
    "\n",
    "# 21*98 = 2058 timeseries\n",
    "model_res=[]\n",
    "for model_id,model in enumerate(modelpred): #20 models predictions\n",
    "    param_value=[]\n",
    "    for p_idx,params in enumerate(ParameterGrid(param_grid)):\n",
    "        video=[]\n",
    "        for i in range(len(TIMESERIES)): #21 videos\n",
    "            df = dfl[i]\n",
    "            gt = gtl[i]\n",
    "            res=PostFilterTogether(model_id,i,p_idx,len(ParameterGrid(param_grid)),df.iloc[:,3],model[i],gt,params[\"maj_margin\"],params[\"maj_thre\"],params[\"zone_margin\"],params[\"del_margin\"],params[\"dtw_threshold\"])\n",
    "            video.append(res)\n",
    "            \"\"\"\n",
    "            i folds servono solo durante lo scoring\n",
    "            # single fold\n",
    "            train_set = [j for j in range(len(TIMESERIES)) if j != i]\n",
    "            test_set = i\n",
    "            for ts in train_set:\n",
    "                PostFilterTogether()\n",
    "            \"\"\"\n",
    "        param_value.append(video)\n",
    "    model_res.append(param_value)\n",
    "\n",
    "with open(\"../pred_filtered/collection_models_prediction_filtered.pkl\", \"wb\") as f:\n",
    "    pickle.dump(model_res, f)\n",
    "    \n",
    "    #fuori dal for deve calcolare la media\n",
    "    \n",
    "\"\"\"\n",
    "versione 1\n",
    "fisso param_grid\n",
    "calcolo f1 score per only training fold\n",
    "prendo il migliore\n",
    "calcolo per ogni singolo video nel validation\n",
    "\n",
    "for model in models:\n",
    "    for param in paramgrid:\n",
    "        for fold in folds:\n",
    "            for ts in fold.train:\n",
    "                f1s_1 = compute single f1score \n",
    "                calcolo f1score per singolo ts\n",
    "            f1s_mean = compute mean f1score mean(f1s_1,f1s_1,...)\n",
    "            per un intero train_set ritorno lo il f1score medio\n",
    "        f1s_mean_mean = compute mean of f1s_mean(f1s_mean,f1s_mean,...)\n",
    "        per ogni train_set ritorno la media = come performa questo param across all folds\n",
    "    check best f1s_mean_mean\n",
    "per ogni param diverso, controllo quello che mi massimizza\n",
    "O(n^3)\n",
    "\"\"\"\n",
    "\n",
    "\n",
    "\n"
   ]
  }
 ],
 "metadata": {
  "kernelspec": {
   "display_name": "Python 3",
   "language": "python",
   "name": "python3"
  },
  "language_info": {
   "codemirror_mode": {
    "name": "ipython",
    "version": 3
   },
   "file_extension": ".py",
   "mimetype": "text/x-python",
   "name": "python",
   "nbconvert_exporter": "python",
   "pygments_lexer": "ipython3",
   "version": "3.10.11"
  }
 },
 "nbformat": 4,
 "nbformat_minor": 2
}
